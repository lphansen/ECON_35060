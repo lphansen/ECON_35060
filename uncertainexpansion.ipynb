{
 "cells": [
  {
   "cell_type": "markdown",
   "id": "dc37b553",
   "metadata": {},
   "source": [
    "<a href=\"https://colab.research.google.com/github/lphansen/RiskUncertaintyValue/blob/main/uncertainexpansion.ipynb\" target=\"_parent\"><img src=\"https://colab.research.google.com/assets/colab-badge.svg\" alt=\"Open In Colab\"/></a>"
   ]
  },
  {
   "cell_type": "code",
   "execution_count": 1,
   "id": "e40f13a9",
   "metadata": {
    "colab": {
     "base_uri": "https://localhost:8080/",
     "height": 34
    },
    "id": "e40f13a9",
    "outputId": "00ed6a8b-2904-45d2-b414-ec9d9c6c2049"
   },
   "outputs": [
    {
     "data": {
      "text/html": [
       "<style>.container { width:97% !important; }</style>"
      ],
      "text/plain": [
       "<IPython.core.display.HTML object>"
      ]
     },
     "metadata": {},
     "output_type": "display_data"
    }
   ],
   "source": [
    "import os\n",
    "import sys\n",
    "sys.path.insert(0, os.getcwd() + '/src')\n",
    "# !git clone https://github.com/lphansen/RiskUncertaintyValue # Please uncomment this line when running on the google colab\n",
    "# workdir = os.getcwd() + '/RiskUncertaintyValue'             # Please uncomment this line when running on the google colab\n",
    "import numpy as np\n",
    "import autograd.numpy as anp\n",
    "from scipy import optimize\n",
    "np.set_printoptions(suppress=True)\n",
    "np.set_printoptions(linewidth=200)\n",
    "from IPython.display import display, HTML\n",
    "display(HTML(\"<style>.container { width:97% !important; }</style>\"))\n",
    "from uncertain_expansion import uncertain_expansion\n",
    "import warnings\n",
    "warnings.filterwarnings(\"ignore\")"
   ]
  },
  {
   "cell_type": "markdown",
   "id": "4bc82505",
   "metadata": {
    "id": "4bc82505"
   },
   "source": [
    "# Small Noise Expansion\n",
    "\n",
    "A nonlinear DSGE model typicaly cannot be solved quasi-analytically.  We consider  a small-noise expansion method to find an approximate solution modified to incorporate recursive utility formulation motivated by robustness or risk concerns. "
   ]
  },
  {
   "cell_type": "markdown",
   "id": "2420fc4c",
   "metadata": {
    "id": "2420fc4c"
   },
   "source": [
    "# 1 Underlying setup\n",
    "The model's equilibrium conditions are described by a system of possibly nonlinear, expectational difference equations\n",
    "\n",
    "$$\n",
    "\\begin{align}\n",
    "\\mathbb{E}[{N_{t+1}^*Q_{t+1}^* \\psi_1(X_t, J_t, X_{t+1}, J_{t+1})}|{\\mathfrak{A}_t}] - \\psi_2(X_t, J_t)  &= 0 \\tag{1}\\\\\n",
    "X_{t+1} - \\phi\\left(X_t, J_t, {\\sf q}W_{t+1}, {\\sf q} \\right) &= 0 \n",
    "\\tag{2} \\end{align}\n",
    "$$\n",
    "where $X_t$ is an $n$-dimensional date $t$ state vector, $J_t$ is an $m$-dimensional date $t$ jump vector, and $W_{t+1}$ is distributed as a $k$-dimensional standard normal.  The real variable ${\\sf q}$ is nonnegative and it scales the shock $W_{t+1}$.  The stochastic processes $X$ and $J$ depend implicitly on ${\\sf q}$.  In effect, we study a family of models and their solutions indexed by ${\\sf q}$.  We suppose that the limit ${\\sf q} = 0$ emerges from a deterministic model for which the equations pin down a steady-state, stable equilbrium solution to the equations (1) and (2). \n",
    "\n",
    "The first set of $m$ equations is forward looking and hence involve expectations along with contributions $N_{t+1}^*$ and $Q_{t+1}^*$ from recursive utility.   \n",
    "For instance, the first-order necessary condition for optimal investment contributes to a forward-looking equation with, say the investment to capital ratio or its logarithm as a jump variable. The second set of $n$ equations give the dynamic evolution of the state vector.  A central part of the solution is to express the jump vector as a function of the state vector.  The stochastic equilibrium is then solved by imposing stochastic stability.  \n",
    "\n",
    "We feature models in which economic agents have preferences given by the recursive specification of preferences:\n",
    "\n",
    "$$\n",
    "\\begin{align}\n",
    "V_t & =\\left[(1-\\beta)\\left(C_t\\right)^{1-\\rho}+\\beta\\left(R_t\\right)^{1-\\rho}\\right]^{\\frac{1}{1-\\rho}}\n",
    "\\tag{3} \\\\\n",
    "R_t & =\\mathbb{E}\\left[\\left(V_{t+1}\\right)^{1-\\gamma} \\mid \\mathfrak{A}_t\\right]^{\\frac{1}{1-\\gamma}}\n",
    "\\tag{4}\\end{align}\n",
    "$$\n",
    "\n",
    "In equation (3), $0 < \\beta < 1$ is a subjective discount factor and $\\rho$ depicts  attitudes toward intertemporal substitution.[^1]  In equation (4),\n",
    "$\\gamma$ depicts attitudes towards risk or $\\xi = \\frac 1 {\\gamma - 1}$ is penalty parameter used to capture concerns about model misspecification.   \n",
    "\n",
    "For computational and conceptual reasons, we find it\n",
    "advantageous to work with the logarithm ${\\widehat V}_t = \\log V_t$.  The corresponding recursions for ${\\widehat  V}_t$ expressed in terms of the logarithm of consumption\n",
    "${\\hat  C}_t$ are \n",
    "$$\n",
    "\\begin{align} \n",
    "{\\widehat  V}_t & = {\\frac 1 {1 - \\rho}}  \\log \\left[ (1 - \\beta) \\exp[(1-\\rho) {\\widehat  C}_t] + \\beta \\exp \\left[(1-\\rho) {\\widehat  R}_t \\right] \\right]\n",
    "\\tag{5} \\\\\n",
    "{\\widehat  R}_t & = {\\frac 1 {1 - \\gamma}} \\log {\\mathbb E} \\left(  \\exp \\left[ (1 - \\gamma) {\\widehat V}_{t+1} \\right] \\mid {\\mathfrak A}_t \\right).\n",
    "\\tag{6} \\end{align}\n",
    "$$\n",
    "\n",
    "Construct\n",
    "$$\n",
    "\\begin{align}\n",
    "N_{t+1}^* & \\stackrel{\\text { def }}{=} \\exp \\left[(1 - \\gamma) \\left({\\widehat V}_{t+1} - {\\widehat R}_t\\right) \\right] \\tag{7} \\\\\n",
    " Q_{t+1}^* & \\stackrel{\\text { def }}{=} \\exp \\left[(1 - \\rho) \\left({\\widehat V}_{t+1} - {\\widehat R}_t\\right) \\right]. \\tag{8} \n",
    "\\end{align}\n",
    "$$\n",
    "Notice that $N_{t+1}^*$ has expectation one conditioned on ${\\mathfrak A}_t$ and induces a change of probability measure motived by a robustness adjustment to potential model misspecification.    The expansion treats the approximation of $N_{t+1}^*$ and $ Q_{t+1}^*$ differently.  Both are computed in a separate step from the solution to equation (1) given $N_{t+1}^*$ and $Q_{t+1}^*$.  The implied one-period stochastic discount factor \n",
    "\\begin{equation*}\n",
    "N_{t+1}^*Q_{t+1}^* \\left( \\frac {C_{t+1}}{C_t} \\right)^{-\\rho}\n",
    "\\end{equation*} \n",
    "where the last contribution is familiar from models with time separable, power utility preferences.  \n",
    "\n",
    "We restrict $\\gamma > 1$, and index it by the parameter ${\\sf q}$ according to:\n",
    "\\begin{equation*}\n",
    "\\xi = \\frac {1 - \\gamma}{\\sf q}  \\xi_o = \\frac {\\sf q} {1 - \\gamma_o} .  \n",
    "\\end{equation*} \n",
    "This embedding makes the uncertainty adjustments matter at a lower order.  It has a particularly nice interpretation when we interpret the recursion as a way to represent a preference for robustness to potential model misspecification.  We take ${\\sf q} = 1$ as the economy of interest.\n",
    "\n",
    "[^1] Formally, ${\\frac {1}{\\rho}}$ is the elasticity of intertemporal substitution."
   ]
  },
  {
   "cell_type": "markdown",
   "id": "aafa5967",
   "metadata": {
    "id": "aafa5967"
   },
   "source": [
    "# 2 Approximating ${\\widehat V}_t$ \n",
    "\n",
    "## 2.1 Zeroth-order contribution\n",
    "\n",
    "We assume that the first difference in the logarithm of consumption is stationary For models with production, this representation will become part of the derived expansion. For order zero, we presume a constant growth rate:\n",
    "$$\n",
    "{\\widehat C}_{t+1}^0 - {\\widehat  C}_t^0  = \\eta_c .\n",
    "$$\n",
    "The order-zero approximation of (5), ${\\widehat  V}_t^0 - {\\widehat  C}_t^0 =\\eta_{v-c}$, is determined by \n",
    "$$\n",
    "\\exp\\left[(1-\\rho) {\\left( \\eta_{v - c} \\right) }\\right] = {\\frac {1 - \\beta} { 1 - \\beta \\exp \\left[ (1 - \\rho) \\eta_c \\right]}} .\n",
    "$$\n",
    "\n",
    "\n",
    "\n",
    "\n",
    "\n",
    "## 2.2 First-order contribution\n",
    "\n",
    "The first-order approximation of ${\\widehat V}_t$ net of ${\\widehat C}_t^1$ is given by \n",
    "$$\n",
    "{\\widehat  V}_t^1 - {\\widehat  C}_t^1 = \\lambda \\left( {\\widehat  R}_t^1 - {\\widehat  C}_t^1 \\right)\n",
    "$$\n",
    "where\n",
    "$$\n",
    "{\\widehat  R}_t^1 - {\\widehat  C}_t^1 =  \\left({\\frac 1 {1 - \\gamma_o}} \\right) \\log {\\mathbb  E}  \\left( \\exp \\left[ (1 - \\gamma_o) \\left[ \\left( {\\widehat V}_{t+1}^1 - {\\widehat C}_{t+1}^1\\right) + \n",
    "\\left({\\widehat C}_{t+1}^1 - {\\widehat C}_{t}^1\n",
    "\\right)   \\right] \\right] \\mid {\\mathfrak A}_t \\right)\\\n",
    "$$\n",
    "and $0 < \\lambda < 1$  satisfies \n",
    "$$\n",
    "\\begin{align*}\n",
    "\\lambda  & = \\beta \\exp \\left[(1-\\rho) \\eta_c \\right]\n",
    "\\end{align*}\n",
    "$$\n",
    "Combining these equations gives the following equation to be solved \n",
    "$$\n",
    "\\begin{align*} \n",
    "{\\widehat  V}_t^1 - {\\widehat  C}_t^1\n",
    "= & \\lambda \\left({\\frac 1 {1 - \\gamma_o}} \\right) \\log {\\mathbb  E}  \\left( \\exp \\left[ (1 - \\gamma_o) \\left[ \\left( {\\widehat V}_{t+1}^1 - {\\widehat C}_{t+1}^1\\right) + \n",
    "\\left({\\widehat C}_{t+1}^1 - {\\widehat C}_{t}^1\n",
    "\\right)   \\right] \\right] \\mid {\\mathfrak A}_t \\right)\n",
    "\\tag{9} \\end{align*} \n",
    "$$\n",
    "\n",
    "## 2.3 Second-order contribution\n",
    "\n",
    "The second-order approximation is: \n",
    "$$\n",
    "{\\widehat  V}_t^2 - {\\widehat  C}_t^2 = \\lambda \\left( {\\widehat  R}_t^2 - {\\widehat  C}_t^2 \\right) +  (1- \\rho) (1-\\lambda) \\lambda  \\left( {\\widehat  R}_t^1 - {\\widehat  C}_t^1\\right)^2\n",
    "$$\n",
    "where\n",
    "\\begin{align*}\n",
    "{\\widehat  R}_t^2  =  E \\left( N_{t+1}^0  {\\widehat V}^2_{t+1} \\mid {\\mathfrak A}_t \\right),\n",
    "\\end{align*}\n",
    "and $N_{t+1}^0$ is given by\n",
    "\\begin{equation*}\n",
    "N_{t+1}^0 = \\exp \\left[\\left(1-\\gamma_o\\right)\\left(\\widehat{V}_{t+1}^1-\\widehat{R}_t^1\\right)\\right]\n",
    "\\end{equation*} \n",
    "\n",
    "Combining these formulas, gives the following equation to be solved:\n",
    "\\begin{align*} \n",
    "{\\widehat  V}_t^2 - {\\widehat  C}_t^2 =  & \\hspace{.2cm} \\lambda \n",
    "{\\mathbb E}  \\left[ N_{t+1}^0 \\left({\\widehat V}^2_{t+1} - {\\widehat C}_{t+1}^2 \\right) \\mid {\\mathfrak A}_t \\right]  + \\lambda  {\\mathbb E}  \\left[ N_{t+1}^0 \\left( {\\widehat C}^2_{t+1} - {\\widehat C}_{t}^2 \\right) \\mid {\\mathfrak A}_t \\right] + \\frac{(1- \\rho) (1-\\lambda)}{\\lambda } \\left[ \\left( {\\widehat  V}_t^1 - {\\widehat  C}_t^1\\right)^2 \\right] . \\tag{10}\n",
    "\\end{align*}\n",
    "\n",
    "The formual for $N_{t+1}^0$ also happens to be the zeroth-order approximation to $N_{t+1}^*$ given by definition (8).  Since $N_{t+1}^0$ is positive and has conditional mean equal to one, it induces a change in probability distribution whereby $W_{t+1}$ is distributed as a multivariate normal with mean $\\mu^o$ and covariance matrix $I$.  The algorithm uses this change of probability distribution in the computations.  The first-order contribution to $N_{t+1}^*$ is  \n",
    "$$\n",
    "\\begin{equation*}\n",
    "N_{t+1}^1 {=}\\left(\\frac{1-\\gamma_o}{2}\\right) N_{t+1}^0\\left(\\widehat{V}_{t+1}^2-\\widehat{R}_t^2\\right)\n",
    "\\end{equation*}\n",
    "$$\n",
    "\n",
    "\n",
    "\n",
    "The algorithm also uses the following approximation formulas for $Q_t^*$ given by definition {9}\n",
    "$$\n",
    "\\begin{aligned}\n",
    "& Q_{t+1}^0 {=} \\exp \\left[(\\rho-1)\\left(\\widehat{V}_{t+1}^0-\\widehat{R}_t^0\\right)\\right]=1 \\\\\n",
    "& \\left.Q_{t+1}^1 {=} \\frac{d}{d {\\sf q}} \\exp \\left[(\\rho-1)\\left(\\widehat{V}_{t+1}-\\widehat{R}_t\\right)\\right]\\right|_{\\mathbf{q}=0}=(\\rho-1)\\left(\\widehat{V}_{t+1}^1-\\widehat{R}_t^1\\right) \\\\\n",
    "& \\left.Q_{t+1}^2 {=} \\frac{d^2}{d \\mathsf{q}^2} \\exp \\left[(\\rho-1)\\left(\\widehat{V}_{t+1}-\\widehat{R}_t\\right)\\right]\\right|_{\\mathbf{q}=0}=(\\rho-1)^2\\left(\\widehat{V}_{t+1}^1-\\widehat{R}_t^1\\right)^2+(\\rho-1)\\left(\\widehat{V}_{t+1}^2-\\widehat{R}_t^2\\right)\n",
    "\\end{aligned}\n",
    "$$\n",
    "\n",
    "The code will produce the coefficient inputs into the following formulas:\n",
    "$$\n",
    "\\widehat{V}_{t+1}^1-\\widehat{R}_t^1=\\frac{1}{1-\\gamma_o}\\left[\\mu^0 \\cdot\\left(W_{t+1}-\\mu^0\\right)+\\frac{1}{2} \\mu^0 \\cdot \\mu^0\\right]\n",
    "$$\n",
    "and \n",
    "$$\n",
    "\\begin{aligned}\n",
    "\\widehat{V}_{t+1}^2-\\widehat{R}_t^2= & \\frac{1}{2}\\left(W_{t+1}-\\mu^0\\right)^{\\prime} \\Upsilon_2^2\\left(W_{t+1}-\\mu^0\\right)-\\frac{1}{2} \\operatorname{tr}\\left(\\Upsilon_2^2\\right)+\\left(W_{t+1}-\\mu^0\\right)^{\\prime}\\left(\\Upsilon_1^2 X_t^1+\\Upsilon_0^2\\right)\n",
    "\\end{aligned}\n",
    "$$"
   ]
  },
  {
   "cell_type": "markdown",
   "id": "966a389a",
   "metadata": {
    "id": "966a389a"
   },
   "source": [
    "# 3 Algorithm \n",
    "\n",
    "\n",
    "The algorithm initializes $\\mu^0, \\Upsilon^2_0, \\Upsilon^2_1,$ and $\\Upsilon^2_2$ at zero.  It uses the first and second order approximations of Schmidt-Grohe and Uribe (2004) and Lombardo and Uhlig (2018) with some modifications.  \n",
    "\n",
    "## 3.1: Step 1\n",
    "Take as input $\\mu^0, \\Upsilon^2_0, \\Upsilon^2_1,$ and $\\Upsilon^2_2$.  Transform the first-order and second-order approximations for the state evolution by using the probability induced by $N_{t+1}^0.$  Under this distribution, $W_{t+1}$ has a conditional distribution with a mean given by $\\mu^0$ and covariance matrix $I$.\n",
    "\n",
    "## 3.2: Step 2\n",
    "When solving for the first-order approximation, an additional term needs to added to the forward equation system to accomodate the recursive utility adjustment: \n",
    "$$\n",
    "\\bar{H}^1 \\stackrel{\\text { def }}{=} \\frac{(\\rho-1)}{2\\left(1-\\gamma_o\\right)}\\left|\\mu^o\\right|^2 H_{t+1}^0 \n",
    "$$\n",
    "where\n",
    "$$\n",
    "H_{t+1}^0 =  \\psi_1(X_t^0, J_t^0,  X_{t+1}^0, J_{t+1}^0, 0,0)\n",
    "$$\n",
    "and is time invariant.\n",
    "\n",
    "## 3.3: Step 3\n",
    "When solving for the second-order approximation, an additional term needs to be added to the forward equation system to accomodate the recursive utility adjustment:\n",
    "$$\n",
    "\\begin{aligned} \n",
    "{\\bar H}^2_t  \\stackrel{\\text { def }}{=} &\\left(1-\\gamma_o\\right) \\Theta_2^1\\left(\\Upsilon_1^2 X_t^1+\\Upsilon_0^2\\right) \\\\\n",
    "& +(\\rho-1) \\mu^o \\cdot\\left(\\Upsilon_1^2 X_t^1+\\Upsilon_0^2\\right) H_{t+1}^0 \\\\\n",
    "& + 2 \\frac{(\\rho-1)}{\\left(1-\\gamma_o\\right)}\\left[\\Theta_2^1 \\mu^0+\\frac{1}{2} \\mu^0 \\cdot \\mu^0\\left(\\Theta_0^1+\\Theta_1^1 X_t^1\\right)\\right] \\\\\n",
    "& + \\left(\\frac{1-\\rho}{1-\\gamma_o}\\right){ }^2\\left(\\left|\\mu^0\\right|^2+\\frac{1}{4}\\left|\\mu^0\\right|^4\\right)\n",
    "\\end{aligned} \n",
    "$$\n",
    "where $\\Theta_0^1, \\Theta_1^1,$ and $\\Theta_2^1$ come from expressing the first-order approximation, $H_{t+1}^1,$ of \n",
    "$$\n",
    "H_{t+1} \\stackrel{\\text { def }}{=}  \\psi_1(X_t, J_t, X_{t+1}, J_{t+1})\n",
    "$$\n",
    "as\n",
    "$$\n",
    "H_{t+1}^1=\\Theta_0^1+\\Theta_1^1 X_t^1+\\Theta_2^1\\left(W_{t+1}-\\mu^0\\right)\n",
    "$$\n",
    "\n",
    "## 3.4: Step 4\n",
    "\n",
    "Compute  an upated $\\mu^0, \\Upsilon^2_0, \\Upsilon^2_1,$ and $\\Upsilon^2_2$ and return to Step 1.\n",
    "\n",
    "The algorithm continues until it reaches a numerical convergence."
   ]
  },
  {
   "cell_type": "markdown",
   "id": "5d5c1350",
   "metadata": {
    "id": "5d5c1350"
   },
   "source": [
    "# 4 Adjustment cost example\n",
    "\n",
    "\n",
    "## 4.1 Production\n",
    "Consider a model recursive utility preferences and an AK technology with adjustment costs. \n",
    "\n",
    "\n",
    "$$\n",
    "{C_t} + {I_t}  = {\\mathbf a}K_t\\tag{12}\n",
    "$$\n",
    "$$\n",
    "K_{t+1}  = K_t \\left[1 + \\theta_2 \\left({\\frac {I_t} {K_t}}\\right) \\right]^{\\theta_1} \\exp(B_{t+1} - B_t)\\tag{13}\n",
    "$$\n",
    "$$\n",
    "B_{t+1} - B_t =  - \\alpha_k + Z_t - {\\frac 1 2} \\mid \\sigma_k \\mid^2  + \\sigma_k\\cdot W_{t+1}\\tag{14}\n",
    "$$\n",
    "$$\n",
    "Z_{t+1} = {\\mathbb A} Z_t + \\mathbb{B} W_{t+1} \\tag{15}\n",
    "$$\n",
    "where $Z_{t+1}$ is a scalar. $W_{t+1}$ is a shock vector containing 2 entries.  For the purposes of computation, we divide the first two equations by $K_t$.\n",
    "\n",
    "## 4.2 FOC on Investment\n",
    "The consumer's stochastic discount factor is\n",
    "$$\n",
    "\\frac{S_{t+1}}{S_t} = \\beta \\left(\\frac{V_{t+1}}{R_t}\\right)^{1-\\gamma} \\left(\\frac{V_{t+1}}{R_t}\\right)^{\\rho-1} \\left(\\frac{C_{t+1}}{C_t}\\right)^{-\\rho}\n",
    "$$\n",
    "The first-order condition for investment is:\n",
    "$$\n",
    "MC_t \\mathbb{E}\\left[\\left(\\frac{S_{t+1}}{S_t}\\right) \\frac {MK_{t+1}}{MC_{t+1}}  \\left(\\theta_1 \\theta_2\\left[1+\\theta_2\\left(\\frac{I_t}{K_t}\\right)\\right]^{\\theta_1-1} \\exp(B_{t+1} - B_t) \\right) \\mid \\mathfrak{A}_t\\right] - MC_t  = 0.  \n",
    "$$\n",
    "where $MK_{t+1}$ the co-state associated with the capital evolution and $MC_t$ is the multiplier associated with the production relation. Dividing this first-order condition by $MC_t$ gives:\n",
    "$$\n",
    "\\mathbb{E}\\left[\\left(\\frac{S_{t+1}}{S_t}\\right) \\frac {MK_{t+1}}{MC_{t+1}}  \\left(\\theta_1 \\theta_2\\left[1+\\theta_2\\left(\\frac{I_t}{K_t}\\right)\\right]^{\\theta_1-1} \\exp(B_{t+1} - B_t)\\right) \\mid \\mathfrak{A}_t\\right] - 1  = 0,\\tag{16}\n",
    "$$\n",
    "which is the equation we use in computation.  \n",
    "\n",
    "The co-state equation satisfies:\n",
    "\\begin{align*}\n",
    "& MC_t \\mathbb{E}\\left[\\left(\\frac{S_{t+1}}{S_t}\\right) \\left(\\frac {MK_{t+1}}{MC_{t+1}} \\right) \\left[\\left( \\frac{K_{t+1}}{K_t} \\right) - \\left(\\theta_1 \\theta_2\\left[1+\\theta_2\\left(\\frac{I_t}{K_t}\\right)\\right]^{\\theta_1-1} \\exp(B_{t+1} - B_t)\\right)\\left(\\frac {I_t} {K_t} \\right)  \\right] \\mid {\\mathfrak A}_t \\right]\\cr &  - MK_t + {\\mathbf a} MC_t = 0\n",
    "\\end{align*}\n",
    "Dividing this equation by $MC_t$ gives:\n",
    "$$\n",
    " \\mathbb{E}\\left[\\left(\\frac{S_{t+1}}{S_t}\\right) \\left(\\frac {MK_{t+1}}{MC_{t+1}} \\right) \\left[\\left( \\frac{K_{t+1}}{K_t} \\right) - \\left(\\theta_1 \\theta_2\\left[1+\\theta_2\\left(\\frac{I_t}{K_t}\\right)\\right]^{\\theta_1-1}  \\exp(B_{t+1} - B_t)\\right)\\left(\\frac {I_t} {K_t} \\right)  \\right] \\mid {\\mathfrak A}_t \\right] - \\frac {MK_t}{MC_t} + {\\mathbf a}  = 0,\n",
    "\\tag{17}$$\n",
    "which is the equation we use in computation.  \n",
    "\n",
    "## 4.3 State and jump variables\n",
    "\n",
    "This formulation has two state variables: $\\log K_{t} - \\log K_{t-1},  B_t -  B_{t-1},$ and $Z_{t}$; and has three jump variables:\n",
    "$\\log C_t - \\log K_t,\\log I_t - \\log K_t$ and $\\log MK_t - \\log MC_t$.   "
   ]
  },
  {
   "cell_type": "markdown",
   "id": "sjhmOYk1JE9m",
   "metadata": {
    "id": "sjhmOYk1JE9m"
   },
   "source": [
    "# 5 Computation\n",
    "\n",
    "We use Expansion Suite to approximate the solution to the adjustment cost model described above."
   ]
  },
  {
   "cell_type": "markdown",
   "id": "6b90da15",
   "metadata": {},
   "source": [
    "## 5.1 Model specifications"
   ]
  },
  {
   "cell_type": "markdown",
   "id": "nmsy8REZH1xl",
   "metadata": {
    "id": "nmsy8REZH1xl"
   },
   "source": [
    "### 5.1.1 Model parameters\n",
    "\n",
    "In this numerical example, we set the preference parameters as\n",
    "$$\n",
    "\\gamma=10,\\quad\n",
    "\\rho=1.5,\\quad\n",
    "\\beta=\\exp(-0.005)\n",
    "$$\n",
    "and the other model parameters as\n",
    "$$\n",
    "\\begin{aligned}\n",
    "{\\mathbf a}&=0.0355\\\\\n",
    "\\theta_1&=0.0125\\\\\n",
    "\\theta_2&=400\\\\\n",
    "\\alpha_k&=0.025\\\\\n",
    "\\sigma_k&=0.01\\begin{bmatrix}0.477 \\\\ 0\\end{bmatrix}\\\\\n",
    "\\mathbb{A}&=\\exp(-0.014)\\\\\n",
    "\\mathbb{B}&=0.01\\begin{bmatrix}0.011 & 0.025 \\\\ 0 & 0\\end{bmatrix}\\\\\n",
    "\\end{aligned}\n",
    "$$"
   ]
  },
  {
   "cell_type": "code",
   "execution_count": 2,
   "id": "b53f9435",
   "metadata": {
    "id": "b53f9435"
   },
   "outputs": [],
   "source": [
    "γ = 10.\n",
    "ρ = 1.5\n",
    "β = np.exp(-0.005)\n",
    "a = 0.0355\n",
    "ϕ_1 = 0.0125\n",
    "ϕ_2 = 400.\n",
    "α_k = 0.025\n",
    "σ_k = np.array([0.477,0]) * 0.01\n",
    "A = np.exp(-0.014)\n",
    "B = np.array([[0.011,0.025],[0,0]]) * 0.01"
   ]
  },
  {
   "attachments": {},
   "cell_type": "markdown",
   "id": "29099f7d",
   "metadata": {
    "id": "29099f7d"
   },
   "source": [
    "### 5.1.2 Equilibrium conditions\n",
    "\n",
    "In Expansion Suite, the equilibrium conditions are specified as a function that takes the jump variables $J$, the state variables $X$, the shock variables $W$, the perturbation parameter ${\\sf q}$, and the model parameters as input, and returns the $\\psi_1,\\psi_2,\\phi$ in Equation (1) and (2) as output.\n",
    "\n",
    "In the adjustment cost model, there are 6 equilibrium conditions, given in Equation (12) to (17). Recall that\n",
    "$$\n",
    "J_t=\\begin{bmatrix}\n",
    "    \\log\\frac{C_t}{K_t}\\\\\n",
    "    \\log\\frac{I_t}{K_t}\\\\\n",
    "    \\log{\\frac{MK_t}{MC_t}}\n",
    "\\end{bmatrix}\\in\\mathbb{R}^3,\\quad\n",
    "X_t=\\begin{bmatrix}\n",
    "    Z_t\\\\ \n",
    "    B_t - B_{t-1} \\\\\n",
    "    \\log K_t - \\log K_{t-1}\\\\\n",
    "\\end{bmatrix}\\in\\mathbb{R}^3,\\quad\n",
    "W_{t+1}\\in\\mathbb{R}^2,\\quad\n",
    "{\\sf q}\\in\\mathbb{R}.\n",
    "$$\n",
    "\n",
    "In the code, `Var_t` is an array containing, in this order: $\\log Q^*_t$, $J_t$, and $X_t$, where $Q^*_t$ appears in Equation (8). Similarly, `Var_tp1` is an array containing $\\log Q^*_{t+1}$, $J_{t+1}$, and $X_{t+1}$. `W_tp1` corresponds to $W_{t+1}$ and `q` corresponds to ${\\sf q}$.\n",
    "\n",
    "The model parameters are passed to the function via `*args`, in which the first 3 must be the $\\gamma,\\beta,\\rho$ in the recursive utility.\n",
    "\n",
    "Note that the last item of `*args` is reserved to `mode`, a string that specifies what the function should return. Set it as `psi1`, `psi2`, `phi` to return $\\psi_1,\\psi_2,\\phi$ respectivley, or an empty string to return the left-hand side of Equation (1) and (2) before taking expectation."
   ]
  },
  {
   "cell_type": "code",
   "execution_count": 3,
   "id": "305696da",
   "metadata": {
    "code_folding": [],
    "id": "305696da"
   },
   "outputs": [],
   "source": [
    "def eq_ac(Var_t, Var_tp1, W_tp1, q, *args):\n",
    "\n",
    "    \"\"\"\n",
    "\n",
    "    Parameters\n",
    "    ----------\n",
    "\n",
    "    Var_t : array_like\n",
    "        Vector of jump and state variables in the current period.\n",
    "\n",
    "    Var_tp1 : array_like\n",
    "        Vector of jump and state variables in the next period.\n",
    "\n",
    "    W_tp1 : array_like\n",
    "        Vector of shock variables in the next period.\n",
    "\n",
    "    q : float\n",
    "        Perturbation parameter.\n",
    "\n",
    "    *args : tuple of float\n",
    "        Preference and model parameters.\n",
    "    \n",
    "    Returns\n",
    "    -------\n",
    "\n",
    "    out : numpy ndarray\n",
    "        Equilibrium condition, psi1, psi2, or phi, depending on :mode:.\n",
    "\n",
    "    \"\"\"\n",
    "    \n",
    "    # Unpack model parameters\n",
    "    γ, β, ρ, a, ϕ_1, ϕ_2, α_k, σ_k, A, B, mode = args\n",
    "\n",
    "    # Unpack model variables\n",
    "    q_t, cmk_t, imk_t, mkmc_t, Z_t, gb_t, gk_t = Var_t.ravel()\n",
    "    q_tp1, cmk_tp1, imk_tp1, mkmc_tp1, Z_tp1, gb_tp1, gk_tp1 = Var_tp1.ravel()\n",
    "\n",
    "    # Compute log SDF, excluding the change of measure\n",
    "    sdf_ex = anp.log(β) - ρ*(cmk_tp1+gk_tp1-cmk_t)\n",
    "    \n",
    "    #### psi1 ####\n",
    "\n",
    "    # Investment ratio\n",
    "    psi1_1 = 0.\n",
    "\n",
    "    # FOC for consumption/investment\n",
    "    psi1_2 = anp.exp(sdf_ex + mkmc_tp1 + anp.log(ϕ_1*ϕ_2) + (ϕ_1-1.)*anp.log(1.+ϕ_2*anp.exp(imk_t)) + 1.*gb_tp1)\n",
    "\n",
    "    # Costate equation\n",
    "    psi1_3 = anp.exp(sdf_ex + mkmc_tp1 + gk_tp1) - anp.exp(sdf_ex + mkmc_tp1 + anp.log(ϕ_1*ϕ_2) + (ϕ_1-1.)*anp.log(1.+ϕ_2*anp.exp(imk_t)) + 1.*gb_tp1 + imk_t)\n",
    "\n",
    "    #### psi2 ####\n",
    "\n",
    "    # Investment ratio\n",
    "    psi2_1 = -a + anp.exp(cmk_t) + anp.exp(imk_t)\n",
    "\n",
    "    # FOC for consumption/investment\n",
    "    psi2_2 = 1.\n",
    "\n",
    "    # Costate equation\n",
    "    psi2_3 = anp.exp(mkmc_t) - a\n",
    "\n",
    "    #### phi ####\n",
    "\n",
    "    # State evoluion processes\n",
    "    phi_1 = A*Z_t + B@W_tp1 - Z_tp1\n",
    "    phi_2 = ϕ_1 * anp.log(1.+ϕ_2*anp.exp(imk_t)) + 1.*gb_tp1 - gk_tp1\n",
    "    phi_3 = -α_k + Z_t + σ_k.T@W_tp1 - 1.*gb_tp1\n",
    "    \n",
    "    # State evoluion processes\n",
    "    phi_1 = A*Z_t + B@W_tp1\n",
    "    phi_2 = ϕ_1 * anp.log(1.+ϕ_2*anp.exp(imk_t)) + 1.*gb_tp1\n",
    "    phi_3 = -α_k + Z_t + σ_k.T@W_tp1\n",
    "\n",
    "    phi_1_var = Z_tp1\n",
    "    phi_2_var = gk_tp1\n",
    "    phi_3_var = 1. * gb_tp1\n",
    "    \n",
    "    if mode == 'psi1':\n",
    "        return np.array([psi1_1, psi1_2, psi1_3])\n",
    "    if mode == 'psi2':\n",
    "        return np.array([psi2_1, psi2_2, psi2_3])\n",
    "    if mode == 'phi':\n",
    "        return np.array([phi_1, phi_2, phi_3])\n",
    "    \n",
    "    return anp.array([\n",
    "        psi1_1 * anp.exp(q_tp1) - psi2_1,\n",
    "        psi1_2 * anp.exp(q_tp1) - psi2_2,\n",
    "        psi1_3 * anp.exp(q_tp1) - psi2_3,\n",
    "        phi_1_var - phi_1,\n",
    "        phi_2_var - phi_2,\n",
    "        phi_3_var - phi_3])"
   ]
  },
  {
   "cell_type": "markdown",
   "id": "c433c4d4",
   "metadata": {
    "id": "c433c4d4"
   },
   "source": [
    "### 5.1.3 Steady state\n",
    "\n",
    "The steady state of the model is obtained by putting $X_t=X_{t+1}=\\bar{X}$ and $J_t=J_{t+1}=\\bar{J}$ and ${\\sf q}=0$, then solve Equation (1) and (2) for $(\\bar{X},\\bar{J})$. Usually this can be done analytically. Otherwise, we may solve the equations numerically.\n",
    "\n",
    "In Expansion Suite, we define a function that takes model parameters as input, and returns $(\\bar{X},\\bar{J})$ as output."
   ]
  },
  {
   "cell_type": "code",
   "execution_count": 4,
   "id": "8cb40ca8",
   "metadata": {
    "id": "8cb40ca8"
   },
   "outputs": [],
   "source": [
    "def ss_ac(*args):\n",
    "\n",
    "    γ, β, ρ, a, ϕ_1, ϕ_2, α_k, σ_k, A, B, mode = args\n",
    "\n",
    "    def f(imk):\n",
    "        g_k = ϕ_1 * np.log(1.+ ϕ_2 * np.exp(imk)) - α_k\n",
    "        sdf_ex = np.log(β) - ρ*g_k\n",
    "        g_b = -α_k\n",
    "        mkmc = anp.log(1./anp.exp(sdf_ex + anp.log(ϕ_1*ϕ_2) + (ϕ_1-1.)*anp.log(1.+ϕ_2*anp.exp(imk)) + g_b))\n",
    "        return anp.exp(sdf_ex + mkmc + g_k) - anp.exp(sdf_ex + mkmc + anp.log(ϕ_1*ϕ_2) + (ϕ_1-1.)*anp.log(1.+ϕ_2*anp.exp(imk)) + g_b + imk)- anp.exp(mkmc) + a\n",
    "\n",
    "    imk = optimize.bisect(f,-40,np.log(a))\n",
    "    cmk = np.log(a - np.exp(imk))\n",
    "    g_k = ϕ_1 * np.log(1. + ϕ_2 * np.exp(imk)) - α_k\n",
    "    sdf_ex = np.log(β) - ρ*g_k\n",
    "    g_b = -α_k\n",
    "    mkmc = anp.log(1./anp.exp(sdf_ex + anp.log(ϕ_1*ϕ_2) + (ϕ_1-1.)*anp.log(1.+ϕ_2*anp.exp(imk)) + g_b))\n",
    "\n",
    "    return np.array([0., cmk, imk, mkmc, 0., g_b, g_k])"
   ]
  },
  {
   "cell_type": "markdown",
   "id": "cacacadd",
   "metadata": {
    "id": "cacacadd"
   },
   "source": [
    "### 5.1.4 Approximation of consumption growth\n",
    "\n",
    "To approximate $\\widehat{V}_t$ and $\\widehat{R}_t$, we find it convenient to compute $\\widehat{V}_t-\\widehat{C}_t$ and $\\widehat{R}_t-\\widehat{C}_t$ instead, as in Equation (9) and (10). Note that we need an additional variable $\\log\\frac{C_{t+1}}{C_t}=\\widehat{C}_{t+1}-\\widehat{C}_t$, which we need to approximate from the jump and state variables.\n",
    "\n",
    "For the adjustment cost model, we compute consumption growth as\n",
    "$$\n",
    "\\log{\\frac{C_{t+1}}{C_t}} = \\log{\\frac{C_{t+1}}{K_{t+1}}}+\\log{\\frac{K_{t+1}}{K_{t}}}-\\log{\\frac{C_{t}}{K_{t}}}\n",
    "$$"
   ]
  },
  {
   "cell_type": "code",
   "execution_count": 5,
   "id": "6c7915d0",
   "metadata": {
    "id": "6c7915d0"
   },
   "outputs": [],
   "source": [
    "def gc_ac(Var_t, Var_tp1, W_tp1, q, *args):\n",
    "\n",
    "    # Unpack model parameters\n",
    "    γ, β, ρ, a, ϕ_1, ϕ_2, α_k, σ_k, A, B, mode = args\n",
    "\n",
    "    # Unpack model variables\n",
    "    q_t, cmk_t, imk_t, mkmc_t, Z_t, gb_t, gk_t = Var_t.ravel()\n",
    "    q_tp1, cmk_tp1, imk_tp1, mkmc_tp1, Z_tp1, gb_tp1, gk_tp1 = Var_tp1.ravel()\n",
    "\n",
    "    # Compute consumption growth\n",
    "    gc_tp1 = cmk_tp1 + gk_tp1 - cmk_t\n",
    "    return gc_tp1"
   ]
  },
  {
   "cell_type": "markdown",
   "id": "67fde220",
   "metadata": {
    "id": "67fde220"
   },
   "source": [
    "## 5.2 Solving the model"
   ]
  },
  {
   "cell_type": "markdown",
   "id": "93e2d884",
   "metadata": {},
   "source": [
    "To use Expansion Suite to solve the adjustment cost model, we need to specify the following:\n",
    "\n",
    "`eq` : *callable*\n",
    "\n",
    "- Equilibrium condition. See section 5.1.2.\n",
    "\n",
    "`ss` : *callable*\n",
    "\n",
    "- Steady State. See section 5.1.3.\n",
    "\n",
    "`var_shape`: *tuple of int*\n",
    "\n",
    "- Triple of integers $(n_J,n_X,n_W)$ where $n_J$ is the number of jump variables, $n_X$ is the number of state variables, and $n_W$ is the number of shocks.\n",
    "\n",
    "`args` : *tuple of float*\n",
    "\n",
    "- Model parameters. See section 5.1.1.\n",
    "\n",
    "`gc`: *callable*\n",
    "\n",
    "- Approximated consumption growth. See section 5.1.4.\n",
    "\n",
    "`init_util`: *dict, or None*\n",
    "\n",
    "- Initialization of $\\mu^0, \\Upsilon_0^2, \\Upsilon_1^2,$ and $\\Upsilon_2^2$. Users may provide a dictionary that maps the keys `mu_0`, `Upsilon_0`, `Upsilon_1`, `Upsilon_2` to the corresponding matrices for initialization. If *None*, zero matrices are used.\n",
    "\n",
    "`iter_tol` : *float*\n",
    "\n",
    "- The iteration stops when the maximum absolute difference of the results in this and the previous iteration is less than this value.\n",
    "\n",
    "`max_iter` : *int*\n",
    "\n",
    "- Maximum number of iterations."
   ]
  },
  {
   "cell_type": "code",
   "execution_count": 6,
   "id": "28562f3e",
   "metadata": {
    "id": "28562f3e",
    "scrolled": false
   },
   "outputs": [
    {
     "name": "stdout",
     "output_type": "stream",
     "text": [
      "Iteration 1: error = 1.01790133\n",
      "Iteration 2: error = 5.68434189e-14\n"
     ]
    }
   ],
   "source": [
    "eq = eq_ac\n",
    "ss = ss_ac\n",
    "gc = gc_ac\n",
    "var_shape = (3, 3, 2)\n",
    "args = (γ, β, ρ, a, ϕ_1, ϕ_2, α_k, σ_k, A, B, 'eq_cond')\n",
    "init_util = None\n",
    "iter_tol = 1e-8\n",
    "max_iter = 50\n",
    "\n",
    "res = uncertain_expansion(eq, ss, var_shape, args, gc, init_util, iter_tol, max_iter)"
   ]
  },
  {
   "cell_type": "markdown",
   "id": "f36fb8ae",
   "metadata": {},
   "source": [
    "## 5.3 Results\n",
    "\n",
    "The results returned by Expansion Suite is a class named as `ModelSolution`. Below are some import attributes.\n",
    "\n",
    "`J1_t` : *LinQuadVar*\n",
    "\n",
    "- Jump Variables first order approximation, time $t$\n",
    "\n",
    "`J2_t`: LinQuadVar\n",
    "\n",
    "- Jump Variables second order approximation, time $t$\n",
    "\n",
    "`X1_tp1` : *LinQuadVar*\n",
    "\n",
    "- State Variables first order approximation, time $t+1$\n",
    "\n",
    "`X2_tp1` : *LinQuadVar*\n",
    "\n",
    "- State Variables second order approximation, time $t+1$\n",
    "\n",
    "`util_sol` : *dict*\n",
    "\n",
    "-  Solutions of the continuation values, including $\\mu^0, \\Upsilon_2^0, \\Upsilon_2^1,$ and $\\Upsilon_2^2$ etc.\n",
    "\n",
    "`vmr1_tp1` : *LinQuadVar*\n",
    "\n",
    "- First order approximation of continuation values $\\widehat{V}^1_{t+1}-\\widehat{R}^1_t$\n",
    "\n",
    "`vmr2_tp1` : *LinQuadVar*\n",
    "\n",
    "- Second order approximation of continuation values $\\widehat{V}^2_{t+1}-\\widehat{R}^2_t$\n",
    "\n",
    "`gc_tp1`: *LinQuadVar* \n",
    "\n",
    "- Approximation of consumption growth $\\widehat{C}_{t+1}-\\widehat{C}_t$\n",
    "\n",
    "`gc0_tp1`: *LinQuadVar*\n",
    "\n",
    "- Zeroth order approximation of consumption growth $\\widehat{C}^0_{t+1}-\\widehat{C}^0_t$\n",
    "\n",
    "`gc1_tp1`: *LinQuadVar*\n",
    "\n",
    "- First order approximation of consumption growth $\\widehat{C}^1_{t+1}-\\widehat{C}^1_t$\n",
    "\n",
    "`gc2_tp1`: *LinQuadVar*\n",
    "\n",
    "- Second order approximation of consumption growth $\\widehat{C}^2_{t+1}-\\widehat{C}^2_t$\n",
    "\n",
    "`ss` : *(n_JX, ) ndarray*\n",
    "\n",
    "- Steady states.\n",
    "\n",
    "`log_N_tilde` : *LinQuadVar*\n",
    "\n",
    "- Approximation for the log change of measure $\\log \\tilde{N}_{t+1}  =\\frac{\\exp \\left[\\left(1-\\gamma_o\\right)\\left[\\left(\\widehat{V}_{t+1}^1-\\widehat{R}_t^1\\right)+\\frac{1}{2}\\left(\\widehat{V}_{t+1}^2-\\widehat{R}_t^2\\right)\\right]\\right]}{\\mathbb{E}\\left(\\exp \\left[\\left(1-\\gamma_o\\right)\\left[\\left(\\widehat{V}_{t+1}^1-\\widehat{R}_t^1\\right)+\\frac{1}{2}\\left(\\widehat{V}_{t+1}^2-\\widehat{R}_t^2\\right)\\right]\\right] \\mid \\mathfrak{A}_t\\right)}$"
   ]
  },
  {
   "cell_type": "markdown",
   "id": "3639db0b",
   "metadata": {},
   "source": [
    "First-order expansion results for the jump variables"
   ]
  },
  {
   "cell_type": "code",
   "execution_count": 7,
   "id": "94a3d55f",
   "metadata": {
    "colab": {
     "base_uri": "https://localhost:8080/"
    },
    "id": "94a3d55f",
    "outputId": "cacd3f71-a7a8-4aba-c49a-ef52c1492f97"
   },
   "outputs": [
    {
     "data": {
      "text/plain": [
       "{'x': array([[11.86381298, -0.        , -0.        ],\n",
       "        [-7.19718172,  0.        ,  0.        ],\n",
       "        [-6.34161027, -0.        ,  0.        ]]),\n",
       " 'c': array([[-0.0401403 ],\n",
       "        [ 0.02435111],\n",
       "        [ 0.02145635]])}"
      ]
     },
     "execution_count": 7,
     "metadata": {},
     "output_type": "execute_result"
    }
   ],
   "source": [
    "res['J1_t'].coeffs"
   ]
  },
  {
   "cell_type": "markdown",
   "id": "f57aa7cf",
   "metadata": {},
   "source": [
    "Second-order expansion results for the jump variables"
   ]
  },
  {
   "cell_type": "code",
   "execution_count": 8,
   "id": "968dbc9c",
   "metadata": {
    "colab": {
     "base_uri": "https://localhost:8080/"
    },
    "id": "968dbc9c",
    "outputId": "b82d516b-7b6c-4faf-cefe-4b39eb95dae7"
   },
   "outputs": [
    {
     "data": {
      "text/plain": [
       "{'x2': array([[11.86381298, -0.        , -0.        ],\n",
       "        [-7.19718172,  0.        ,  0.        ],\n",
       "        [-6.34161027, -0.        ,  0.        ]]),\n",
       " 'xx': array([[-99.77977259,   0.        ,   0.        ,   0.        ,   0.        ,   0.        ,  -0.        ,   0.        ,  -0.        ],\n",
       "        [-76.65404713,  -0.        ,  -0.        ,  -0.        ,  -0.        ,  -0.        ,   0.        ,  -0.        ,   0.        ],\n",
       "        [-62.11602763,   0.        ,   0.        ,   0.        ,   0.        ,   0.        ,   0.        ,   0.        ,  -0.        ]]),\n",
       " 'x': array([[ 1.02005613,  0.        , -0.        ],\n",
       "        [ 0.30949588, -0.        , -0.        ],\n",
       "        [ 0.23598939,  0.        , -0.        ]]),\n",
       " 'c': array([[-0.00708609],\n",
       "        [ 0.00272834],\n",
       "        [ 0.00246611]])}"
      ]
     },
     "execution_count": 8,
     "metadata": {},
     "output_type": "execute_result"
    }
   ],
   "source": [
    "res['J2_t'].coeffs"
   ]
  },
  {
   "cell_type": "markdown",
   "id": "e2343fba",
   "metadata": {},
   "source": [
    "First-order expansion results for the state evolution equations"
   ]
  },
  {
   "cell_type": "code",
   "execution_count": 9,
   "id": "Lhw7DXgW5nyZ",
   "metadata": {
    "colab": {
     "base_uri": "https://localhost:8080/"
    },
    "id": "Lhw7DXgW5nyZ",
    "outputId": "925b8695-242e-400f-d892-1ff81fedd362"
   },
   "outputs": [
    {
     "data": {
      "text/plain": [
       "{'x': array([[ 0.98609754, -0.        , -0.        ],\n",
       "        [ 1.        ,  0.        ,  0.        ],\n",
       "        [ 0.9191796 , -0.        ,  0.        ]]),\n",
       " 'w': array([[ 0.00011,  0.00025],\n",
       "        [ 0.00477,  0.     ],\n",
       "        [ 0.00477, -0.     ]]),\n",
       " 'c': array([[-0.        ],\n",
       "        [ 0.        ],\n",
       "        [ 0.00027345]])}"
      ]
     },
     "execution_count": 9,
     "metadata": {},
     "output_type": "execute_result"
    }
   ],
   "source": [
    "res['X1_tp1'].coeffs"
   ]
  },
  {
   "cell_type": "markdown",
   "id": "563f1e37",
   "metadata": {},
   "source": [
    "Second-order expansion results for the state evolution equations"
   ]
  },
  {
   "cell_type": "code",
   "execution_count": 10,
   "id": "VVYwbkRGWMw9",
   "metadata": {
    "colab": {
     "base_uri": "https://localhost:8080/"
    },
    "id": "VVYwbkRGWMw9",
    "outputId": "58f881a1-ae00-4787-db37-1cf24a9d1cc8"
   },
   "outputs": [
    {
     "data": {
      "text/plain": [
       "{'x2': array([[ 0.98609754, -0.        , -0.        ],\n",
       "        [ 1.        ,  0.        ,  0.        ],\n",
       "        [ 0.9191796 , -0.        ,  0.        ]]),\n",
       " 'xx': array([[ 0.        ,  0.        ,  0.        ,  0.        ,  0.        ,  0.        ,  0.        ,  0.        ,  0.        ],\n",
       "        [ 0.        ,  0.        ,  0.        ,  0.        ,  0.        ,  0.        ,  0.        ,  0.        ,  0.        ],\n",
       "        [-0.80165871,  0.        , -0.        ,  0.        ,  0.        ,  0.        ,  0.        ,  0.        ,  0.        ]]),\n",
       " 'x': array([[ 0.        ,  0.        ,  0.        ],\n",
       "        [ 0.        ,  0.        ,  0.        ],\n",
       "        [ 0.00307538,  0.        , -0.        ]]),\n",
       " 'c': array([[0.        ],\n",
       "        [0.        ],\n",
       "        [0.00003131]])}"
      ]
     },
     "execution_count": 10,
     "metadata": {},
     "output_type": "execute_result"
    }
   ],
   "source": [
    "res['X2_tp1'].coeffs"
   ]
  },
  {
   "cell_type": "markdown",
   "id": "f1171b2a",
   "metadata": {},
   "source": [
    "# 6 Shock elasticities\n",
    "\n",
    "This section illustrates how to use the results from Expansion Suite to compute shock elasticities of a stochastic process, for example, consumption growth."
   ]
  },
  {
   "cell_type": "markdown",
   "id": "4055af4d",
   "metadata": {},
   "source": [
    "## 6.1 Compute elasticities\n",
    "\n",
    "To compute exposure elasticity, we may use the `exposure_elasticity` function. The function takes 6 inputs:\n",
    "\n",
    "`log_M_growth` : *LinQuadVar*\n",
    "\n",
    "- Consumption growth process, can be loaded from the `ModelSolution` attribute `gc_tp1`.\n",
    "\n",
    "`X1_tp1` : *LinQuadVar*\n",
    "\n",
    "- First order expansion of the state evolution processes, can be loaded from the `ModelSolution` attribute `X1_tp1`.\n",
    "\n",
    "`X2_tp1` : *LinQuadVar*\n",
    "\n",
    "- Second order expansion of the state evolution processes, can be loaded from the `ModelSolution` attribute `X2_tp1`.\n",
    "\n",
    "`T` : *int*\n",
    " \n",
    "- Time horizon (in month).\n",
    "\n",
    "`shock` : *int*\n",
    "\n",
    "- The shock component we are interested in, `1 <= shock <= n_W`.\n",
    "\n",
    "`percentile` : *float*\n",
    "\n",
    "- The percentile of the elasticity we want to compute, `0 <= percentile <= 1`. For example, set `percentile = 0.5` to compute the median.\n",
    "\n",
    "To compute price elasticity, we may use the `price_elasticity` function. The function takes 7 inputs. In addition to the 6 described above, we also need\n",
    "\n",
    "`log_S_growth` : *LinQuadVar*\n",
    "\n",
    "- Approximation of the log stochastic discount factor, which can be computed using attributes of `ModelSolution`."
   ]
  },
  {
   "cell_type": "markdown",
   "id": "1a0c506a",
   "metadata": {},
   "source": [
    "\n",
    "Recall that\n",
    "$$\n",
    "\\begin{aligned}\n",
    "\\frac{S_{t+1}}{S_t} & =\\left(\\frac{C_{t+1}}{C_t}\\right)^{-\\rho} \\exp \\left[(1-\\gamma)\\left(\\widehat{V}_{t+1}-\\widehat{R}_t\\right)\\right] \\exp \\left[(\\rho-1)\\left(\\widehat{V}_{t+1}-\\widehat{R}_t\\right)\\right] \\\\\n",
    "& = N_{t+1}^* \\exp \\left(\\widehat{S}_{t+1}-\\widehat{S}_t\\right)\n",
    "\\end{aligned}\n",
    "$$\n",
    "where $\\log N^*_{t+1}$ is from Section 4.3 in the note and is approximated by `log_N_tilde` in the model solution, and\n",
    "$$\n",
    "\\widehat{S}_{t+1}-\\widehat{S}_t \\stackrel{\\text { def }}{=}\\log\\beta-\\rho\\left(\\widehat{C}_{t+1}+\\widehat{C}_t\\right)+(\\rho-1)\\left(\\widehat{V}_{t+1}-\\widehat{C}_{t+1}\\right)-(\\rho-1)\\left(\\widehat{R}_t-\\widehat{C}_t\\right)\n",
    "$$\n",
    "We follow approach 3 in the note (Section 4.3) and approximate $\\widehat{S}_{t+1}-\\widehat{S}_t$ as\n",
    "$$\n",
    "\\widehat{S}_{t+1}-\\widehat{S}_t \\approx\\left[\\widehat{S}_{t+1}^0-\\widehat{S}_t^0\\right]+\\left[\\widehat{S}_{t+1}^1-\\widehat{S}_t^1\\right]+\\frac{1}{2}\\left[\\widehat{S}_{t+1}^2-\\widehat{S}_t^2\\right]\n",
    "$$\n",
    "where\n",
    "$$\n",
    "\\begin{aligned}\n",
    "\\widehat{S}_{t+1}^0-\\widehat{S}_t^0 \n",
    "    &= \\log \\beta-\\rho \\eta_c^0 \\\\\n",
    "\\widehat{S}_{t+1}^1-\\widehat{S}_t^1 \n",
    "    &=-\\left(\\widehat{C}_{t+1}^1+\\widehat{C}_t^1\\right)+(\\rho-1)\\left(\\widehat{V}_{t+1}^1-\\widehat{C}_{t+1}^1\\right)-(\\rho-1)\\left(\\widehat{R}_t^1-\\widehat{C}_t^1\\right) \\\\\n",
    "    &=-\\rho\\left(\\widehat{C}_{t+1}^1+\\widehat{C}_t^1\\right)+(\\rho-1)\\left(\\widehat{V}_{t+1}^1-\\widehat{R}_t^1\\right) \\\\\n",
    "\\widehat{S}_{t+1}^2-\\widehat{S}_t^2 \n",
    "    &=-\\left(\\widehat{C}_{t+1}^2+\\widehat{C}_t^2\\right)+(\\rho-1)\\left(\\widehat{V}_{t+1}^2-\\widehat{C}_{t+1}^2\\right)-(\\rho-1)\\left(\\widehat{R}_t^2-\\widehat{C}_t^2\\right)\\\\\n",
    "    &=-\\rho\\left(\\widehat{C}_{t+1}^2+\\widehat{C}_t^2\\right)+(\\rho-1)\\left(\\widehat{V}_{t+1}^2-\\widehat{R}_{t}^2\\right)\n",
    "\\end{aligned}\n",
    "$$\n",
    "\n",
    "These are implemented in the function `calc_SDF` below."
   ]
  },
  {
   "cell_type": "code",
   "execution_count": 11,
   "id": "f80ed061",
   "metadata": {},
   "outputs": [],
   "source": [
    "from elasticity import exposure_elasticity, price_elasticity\n",
    "from lin_quad import LinQuadVar\n",
    "\n",
    "def calc_SDF(res, *args):\n",
    "    \"\"\"\n",
    "    This function uses results from Expansion Suite and compute the log SDF using Approach 3 in the note (Section 4.3).\n",
    "\n",
    "    Parameters\n",
    "    ----------\n",
    "\n",
    "    res : ModelSolution\n",
    "        Model solution returned by Expansion Suite.\n",
    "\n",
    "    args : tuple of float\n",
    "        Preference and model parameters.\n",
    "\n",
    "    Returns\n",
    "    -------\n",
    "\n",
    "    log_SDF : LinQuadVar\n",
    "        Approximation of log SDF.\n",
    "\n",
    "    gc_tp1 : LinQuadVar\n",
    "        Approximation of log consumption growth process; from res['gc_tp1'].\n",
    "\n",
    "    X1_tp1 : LinQuadVar\n",
    "        First order expansion of the state evolution process; from res['X1_tp1'].\n",
    "\n",
    "    X2_tp1 : LinQuadVar\n",
    "        Second order expansion of the state evolution process; from res['X2_tp1'].\n",
    "\n",
    "    \"\"\"\n",
    "\n",
    "    n_J, n_X, n_W = res['var_shape']\n",
    "    β = args[1]\n",
    "    ρ = args[2]\n",
    "\n",
    "    X1_tp1 = res['X1_tp1']\n",
    "    X2_tp1 = res['X2_tp1']\n",
    "\n",
    "    gc_tp1 = res['gc_tp1']\n",
    "    gc0_tp1 = res['gc0_tp1']\n",
    "    gc1_tp1 = res['gc1_tp1']\n",
    "    gc2_tp1 = res['gc2_tp1']\n",
    "\n",
    "    vmr1_tp1 = res['vmr1_tp1']\n",
    "    vmr2_tp1 = res['vmr2_tp1']\n",
    "    log_N_tilde = res['log_N_tilde']\n",
    "\n",
    "    S0_tp1 = LinQuadVar({'c':np.log(β) - ρ*np.array([[gc0_tp1]])}, shape = (1,n_X,n_W))\n",
    "    S1_tp1 = (ρ-1)*vmr1_tp1 -ρ*gc1_tp1\n",
    "    S2_tp1 = (ρ-1)*vmr2_tp1 -ρ*gc2_tp1\n",
    "\n",
    "    log_SDF = S0_tp1 + S1_tp1 + 0.5 *S2_tp1 + log_N_tilde\n",
    "\n",
    "    return log_SDF, gc_tp1, X1_tp1, X2_tp1"
   ]
  },
  {
   "cell_type": "markdown",
   "id": "173f0032",
   "metadata": {},
   "source": [
    "Compute the 25-th, 50-th, and 75-th percentile of the exposure and price elasticities for 30 years."
   ]
  },
  {
   "cell_type": "code",
   "execution_count": 12,
   "id": "5fdd807f",
   "metadata": {},
   "outputs": [],
   "source": [
    "# Compute shock elasticity for 30 years\n",
    "T = 360\n",
    "\n",
    "# Compute shock elasticity at 1st quartile, median, and 3rd quartile\n",
    "quantile = [0.25, 0.5, 0.75]\n",
    "\n",
    "# Compute log SDF; load consumption growth and state evolution processes from model solution\n",
    "log_SDF, gc_tp1, X1_tp1, X2_tp1 = calc_SDF(res, *args)\n",
    "\n",
    "# Compute each component of the exposure elasticity for consumption growth process\n",
    "expo_elas_shock_0 = [exposure_elasticity(gc_tp1, X1_tp1, X2_tp1, T, shock=0, percentile=p) for p in quantile]\n",
    "expo_elas_shock_1 = [exposure_elasticity(gc_tp1, X1_tp1, X2_tp1, T, shock=1, percentile=p) for p in quantile]\n",
    "\n",
    "# Compute each component of price elasticity for consumption growth process\n",
    "price_elas_shock_0 = [price_elasticity(gc_tp1, log_SDF, X1_tp1, X2_tp1, T, shock=0, percentile=p) for p in quantile]\n",
    "price_elas_shock_1 = [price_elasticity(gc_tp1, log_SDF, X1_tp1, X2_tp1, T, shock=1, percentile=p) for p in quantile]"
   ]
  },
  {
   "cell_type": "markdown",
   "id": "ddf42fc6",
   "metadata": {},
   "source": [
    "## 6.2 Plot elasticities\n",
    "\n",
    "In this section, we plot the exposure and the price elasticities of the consumption growth process computed above."
   ]
  },
  {
   "cell_type": "code",
   "execution_count": 13,
   "id": "32996b97",
   "metadata": {},
   "outputs": [],
   "source": [
    "import matplotlib.pyplot as plt\n",
    "import seaborn as sns\n",
    "import pandas as pd\n",
    "pd.options.display.float_format = '{:.3g}'.format\n",
    "sns.set(font_scale = 1.4)"
   ]
  },
  {
   "cell_type": "code",
   "execution_count": 14,
   "id": "dfbbf731",
   "metadata": {},
   "outputs": [],
   "source": [
    "shock_labl = ['Shock component 1', 'Shock component 2']\n",
    "line_labl = ['Q1', 'Q2', 'Q3']\n",
    "line_color = ['green','red','blue']\n",
    "index = ['T'] + line_labl\n",
    "n_qt = len(quantile)"
   ]
  },
  {
   "cell_type": "markdown",
   "id": "8cb98be9",
   "metadata": {},
   "source": [
    "### 6.2.1 Exposure elasticity"
   ]
  },
  {
   "cell_type": "code",
   "execution_count": 15,
   "id": "74f1de77",
   "metadata": {},
   "outputs": [
    {
     "data": {
      "image/png": "[encoded data removed]",
      "text/plain": [
       "<Figure size 864x360 with 2 Axes>"
      ]
     },
     "metadata": {},
     "output_type": "display_data"
    }
   ],
   "source": [
    "fig, axes = plt.subplots(1, 2, figsize = (12,5))\n",
    "expo_elas_shock_0_plot = pd.DataFrame([np.arange(T), expo_elas_shock_0[0].flatten(), expo_elas_shock_0[1].flatten(), expo_elas_shock_0[2].flatten()], index=index).T\n",
    "expo_elas_shock_1_plot = pd.DataFrame([np.arange(T), expo_elas_shock_1[0].flatten(), expo_elas_shock_1[1].flatten(), expo_elas_shock_1[2].flatten()], index=index).T\n",
    "plot_elas = [expo_elas_shock_0_plot, expo_elas_shock_1_plot] \n",
    "\n",
    "for i in range(len(plot_elas)):\n",
    "    for j in range(n_qt):\n",
    "        sns.lineplot(data=plot_elas[i], x='T', y=line_labl[j], ax=axes[i], color=line_color[j], label=line_labl[j])\n",
    "        axes[i].set_xlabel('')\n",
    "        axes[i].set_ylabel('Exposure elasticity')\n",
    "        axes[i].set_title(shock_labl[i])\n",
    "axes[0].set_ylim([0,0.02])\n",
    "axes[1].set_ylim([0,0.02])\n",
    "fig.suptitle('Exposure Elasticity of Consumption Growth')\n",
    "fig.tight_layout()\n",
    "plt.show()"
   ]
  },
  {
   "cell_type": "markdown",
   "id": "a59a8910",
   "metadata": {},
   "source": [
    "### 6.2.1 Price elasticity"
   ]
  },
  {
   "cell_type": "code",
   "execution_count": 16,
   "id": "4161336c",
   "metadata": {},
   "outputs": [
    {
     "data": {
      "image/png": "[encoded data removed]",
      "text/plain": [
       "<Figure size 864x360 with 2 Axes>"
      ]
     },
     "metadata": {},
     "output_type": "display_data"
    }
   ],
   "source": [
    "fig, axes = plt.subplots(1, 2, figsize = (12,5))\n",
    "price_elas_shock_0_plot = pd.DataFrame([np.arange(T),price_elas_shock_0[0].flatten(),price_elas_shock_0[1].flatten(),price_elas_shock_0[2].flatten()], index = index).T\n",
    "price_elas_shock_1_plot = pd.DataFrame([np.arange(T),price_elas_shock_1[0].flatten(),price_elas_shock_1[1].flatten(),price_elas_shock_1[2].flatten()], index = index).T\n",
    "plot_elas = [price_elas_shock_0_plot, price_elas_shock_1_plot] \n",
    "\n",
    "for i in range(len(plot_elas)):\n",
    "    for j in range(n_qt):\n",
    "        sns.lineplot(data=plot_elas[i],  x='T', y=line_labl[j], ax=axes[i], color=line_color[j], label=line_labl[j])\n",
    "        axes[i].set_xlabel('')\n",
    "        axes[i].set_ylabel('Price elasticity')\n",
    "        axes[i].set_title(shock_labl[i])\n",
    "\n",
    "axes[0].set_ylim([0,0.15])\n",
    "axes[1].set_ylim([0,0.15])\n",
    "\n",
    "fig.suptitle('Price Elasticity of Consumption Growth')\n",
    "fig.tight_layout()\n",
    "plt.show()"
   ]
  },
  {
   "cell_type": "markdown",
   "id": "fb6b268b",
   "metadata": {},
   "source": [
    "# Reference\n",
    "\n",
    "[1] Lombardo, Giovanni and Harald Uhlig. 2018. A Theory of Pruning. *International Economic Review* 59 (4):1825–1836.\n",
    "\n",
    "[2] Schmitt-Grohe, Stephanie and Mart ́ın Uribe. 2004. Solving Dynamic General Equilibrium Models Using a Second-Order Approximation to the Policy Function. *Journal of Economic Dynamics and Control* 28 (4):755–775."
   ]
  },
  {
   "cell_type": "code",
   "execution_count": null,
   "id": "bffa5c4f",
   "metadata": {},
   "outputs": [],
   "source": []
  }
 ],
 "metadata": {
  "colab": {
   "provenance": [],
   "toc_visible": true
  },
  "interpreter": {
   "hash": "1c67a9c81f4b1f676ee52b818d3e176be5c9dd44f82a35d6054954eb94c37bc5"
  },
  "kernelspec": {
   "display_name": "Python 3.9.12 ('base')",
   "language": "python",
   "name": "python3"
  },
  "language_info": {
   "codemirror_mode": {
    "name": "ipython",
    "version": 3
   },
   "file_extension": ".py",
   "mimetype": "text/x-python",
   "name": "python",
   "nbconvert_exporter": "python",
   "pygments_lexer": "ipython3",
   "version": "3.9.12"
  },
  "vscode": {
   "interpreter": {
    "hash": "11938c6bc6919ae2720b4d5011047913343b08a43b18698fd82dedb0d4417594"
   }
  }
 },
 "nbformat": 4,
 "nbformat_minor": 5
}
