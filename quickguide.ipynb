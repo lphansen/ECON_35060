{
 "cells": [
  {
   "cell_type": "markdown",
   "id": "f5e7b1d0",
   "metadata": {},
   "source": [
    "<a href=\"https://colab.research.google.com/github/lphansen/RiskUncertaintyValue/blob/main/quickguide.ipynb\" target=\"_parent\"><img src=\"https://colab.research.google.com/assets/colab-badge.svg\" alt=\"Open In Colab\"/></a>"
   ]
  },
  {
   "cell_type": "markdown",
   "id": "ef624dcb",
   "metadata": {},
   "source": [
    "This notebook \n",
    "- provides a quick guide to solve the DSGE model using the expansion suite in Section 1, as well as how to compute IRF, approximate, and simulate variables.\n",
    "- provides some examples for `LinQuadVar` computations in Section 2."
   ]
  },
  {
   "cell_type": "code",
   "execution_count": 16,
   "id": "ea879a4f",
   "metadata": {},
   "outputs": [
    {
     "data": {
      "text/html": [
       "<style>.container { width:97% !important; }</style>"
      ],
      "text/plain": [
       "<IPython.core.display.HTML object>"
      ]
     },
     "metadata": {},
     "output_type": "display_data"
    }
   ],
   "source": [
    "import os\n",
    "import sys\n",
    "workdir = os.getcwd()\n",
    "# !git clone https://github.com/lphansen/RiskUncertaintyValue # Uncomment this when running on Google Colab\n",
    "# workdir = os.getcwd() + '/RiskUncertaintyValue'             # Uncomment this when running on Google Colab\n",
    "sys.path.insert(0, workdir+'/src')\n",
    "import numpy as np\n",
    "import autograd.numpy as anp\n",
    "np.set_printoptions(suppress=True)\n",
    "np.set_printoptions(linewidth=200)\n",
    "from IPython.display import display, HTML\n",
    "from BY_example_sol import disp\n",
    "display(HTML(\"<style>.container { width:97% !important; }</style>\"))\n",
    "import warnings\n",
    "warnings.filterwarnings(\"ignore\")\n",
    "\n",
    "from lin_quad import LinQuadVar\n",
    "from lin_quad_util import E, concat, next_period, cal_E_ww, lq_sum, simulate\n",
    "from uncertain_expansion import uncertain_expansion, approximate_fun\n",
    "np.set_printoptions(suppress=True)"
   ]
  },
  {
   "cell_type": "markdown",
   "id": "1f06685a",
   "metadata": {},
   "source": [
    "# 1. Five-minute guide to solve the DSGE model using the Expansion Suite\n",
    "\n",
    "Suppose we would like to solve a modified version of Bansal Yaron Long-run risk model. Its equilibrium condtions include\n",
    "- One forward-looking condition\n",
    "$$\n",
    "\\begin{aligned}\n",
    "\\text{pd}_t&=\\mathbb{E}[\\frac{S_{t+1}}{S_t}(\\text{pd}_{t+1}g_{d,t+1}+g_{d,t+1})]\n",
    "\\end{aligned}\n",
    "$$\n",
    "\n",
    "- Two state-evolution equation\n",
    "$$\n",
    "\\begin{aligned}\n",
    "x_{t+1} & =\\alpha x_t+\\phi_e \\sigma_t w_{1,t+1} \\\\\n",
    "\\sigma_{t+1}^2= & \\sigma^2+v_1\\left(\\sigma_t^2-\\sigma^2\\right)+\\sigma_w w_{2,t+1}\n",
    "\\end{aligned}\n",
    "$$\n",
    "\n",
    "where we have\n",
    "$$\n",
    "\\begin{aligned}\n",
    "g_{c,t+1} & =\\mu_c+x_t+\\phi_c \\sigma_t w_{3,t+1} =\\log{\\frac{C_{t+1}}{C_t}}\\\\\n",
    "g_{d,t+1}& =\\mu_d+\\phi x_t+\\pi w_{3,t+1} + \\phi_d \\sigma_t w_{4,t+1} \\\\\n",
    "\\frac{S_{t+1}}{S_t}& = \\beta \\left(\\frac{V_{t+1}}{R_t}\\right)^{1-\\gamma} \\left(\\frac{V_{t+1}}{R_t}\\right)^{\\rho-1} \\left(\\frac{C_{t+1}}{C_t}\\right)^{-\\rho}\n",
    "\\end{aligned}\n",
    "$$\n",
    "\n",
    "The model has one jump variable (In the expansion suite, $J_t$ is used to represent jump variables):\n",
    "- $\\text{pd}_t$ : Price Dividend Ratio\n",
    "\n",
    "Two tate variables (In the expansion suite, $X_t$ is used to represent state variables):\n",
    "- $x_{t+1}$ : Growth process\n",
    "- $\\sigma_{t+1}$ : Volatility process\n",
    "\n",
    "#### The Expansion Suite only takes **five** necessary inputs to solve the DSGE model."
   ]
  },
  {
   "cell_type": "markdown",
   "id": "ba75562f",
   "metadata": {},
   "source": [
    "## 1.1 Equilibrium Condition Function\n",
    "\n",
    "The Equilibrium Condition Function should take the form of the next cell. \n",
    "\n",
    "There are several points which we should pay attention to:\n",
    "\n",
    "1. At the beginning of this function, we need to specify the parameters and variables used in the equilibrium conditions. \n",
    "\n",
    "    - The first components of `Var_t` and `Var_tp1` are fixed as `q_t` or `q_tp1`. (See Exploring Recursive Utility Appendix for details.)\n",
    "    \n",
    "    - State variables need to follow jump variable.\n",
    "\n",
    "2. Then we need to specify each equilibrium condition using above specified parameter and variables. \n",
    "\n",
    "    - The algorithm requires us to rewrite the equilibrium conditions in the form as equation (1). We need to find what `psi1` is in our equilibrium conditions, specify what  `psi1` look like, and then return it using `psi1` mode. \n",
    "    \n",
    "    - The log change of measure is skipped in the specification of equilibrium conditions.\n",
    "\n",
    "3. By default (without `mode` specification), the function needs to return the LHS of each equilibrium condition before taking expectation. \n",
    "\n",
    "    - The state-evolution equation needs to follow the forward-looking conditions.\n",
    "\n",
    "$$\n",
    "\\begin{aligned}\n",
    "\\mathbb{E}[{N_{t+1}^*Q_{t+1}^* \\psi_1(X_t, J_t, X_{t+1}, J_{t+1})}|{\\mathfrak{A}_t}] - \\psi_2(X_t, J_t)  &= 0 \\\\\n",
    "  \\phi\\left(X_t, X_{t+1}, J_t, {\\sf q}W_{t+1}, {\\sf q} \\right) &= 0 \n",
    "\\end{aligned}\\tag{1}\n",
    "$$\n",
    "\n"
   ]
  },
  {
   "cell_type": "code",
   "execution_count": 2,
   "id": "1c2f9a85",
   "metadata": {},
   "outputs": [],
   "source": [
    "def eq_cond_BY(Var_t, Var_tp1, W_tp1, q, mode, *args):\n",
    "\n",
    "    # Parameters for the model\n",
    "    γ, β, ρ, α, ϕ_e, σ_squared, ν_1, σ_w, μ, μ_d, ϕ, ϕ_d, ϕ_c, π = args\n",
    "\n",
    "    # Variables:\n",
    "    q_t, pd_t, x_t, σ_t_squared = Var_t.ravel()\n",
    "    q_tp1, pd_tp1, x_tp1, σ_tp1_squared = Var_tp1.ravel()\n",
    "    w1_tp1, w2_tp1, w3_tp1, w4_tp1 = W_tp1.ravel()\n",
    "\n",
    "    # Intermedite varibles that facilitates computation\n",
    "    σ_t = anp.sqrt(σ_t_squared)\n",
    "    gc_tp1 = μ + x_t + ϕ_c*σ_t*w3_tp1\n",
    "    gd_tp1 = μ_d + ϕ*x_t + π*σ_t*w3_tp1 + ϕ_d*σ_t*w4_tp1\n",
    "    \n",
    "    ## Forward-looking conditions\n",
    "    psi1_1 = anp.exp(anp.log(β)- ρ*gc_tp1 + gd_tp1)*(anp.exp(pd_tp1) + 1)\n",
    "    psi2_1 = anp.exp(pd_t)\n",
    "\n",
    "    # State process\n",
    "    phi_1 = α * x_t + ϕ_e * σ_t * w1_tp1 - x_tp1\n",
    "    phi_2 = σ_squared + ν_1 * (σ_t_squared - σ_squared) + σ_w * w2_tp1 - σ_tp1_squared\n",
    "    \n",
    "    if mode == 'psi1':\n",
    "        return np.array([psi1_1])\n",
    "\n",
    "    return anp.array([psi1_1*anp.exp(q_tp1) - psi2_1, phi_1, phi_2])"
   ]
  },
  {
   "cell_type": "markdown",
   "id": "d554abc5",
   "metadata": {},
   "source": [
    "## 1.2 Model Steady State Function \n",
    "\n",
    "This function takes model parameters as input and outputs the steady state for each variable following the variable order specified in `Var_t` and `Var_tp1`.\n",
    "\n",
    "- The first one will always be 0, since the steady state of `q_t` is 0."
   ]
  },
  {
   "cell_type": "code",
   "execution_count": 3,
   "id": "e0d871c4",
   "metadata": {},
   "outputs": [],
   "source": [
    "def ss_func_BY(*args):\n",
    "\n",
    "    # Parameters for the model\n",
    "    γ, β, ρ, α, ϕ_e, σ_squared, ν_1, σ_w, μ, μ_d, ϕ, ϕ_d, ϕ_c, π = args\n",
    "\n",
    "    sdf = anp.exp(anp.log(β) - ρ*μ)\n",
    "\n",
    "    return np.array([0, np.log((sdf * np.exp(μ_d))/(1-np.exp(μ_d)*sdf)), 0., σ_squared])"
   ]
  },
  {
   "cell_type": "markdown",
   "id": "aadc21b2",
   "metadata": {},
   "source": [
    "## 1.3 Model Variable Dimension Array\n",
    "\n",
    "Spcify a simple numpy array for (n_J, n_X, n_W). The dimensions for jump variables, state variables, and shock variables in the model."
   ]
  },
  {
   "cell_type": "code",
   "execution_count": 4,
   "id": "6f4f50b9",
   "metadata": {},
   "outputs": [],
   "source": [
    "var_shape = (1, 2, 4)"
   ]
  },
  {
   "cell_type": "markdown",
   "id": "715b17d5",
   "metadata": {},
   "source": [
    "## 1.4 Model Parameter Calibration Tuple\n",
    "\n",
    "Specify all the model parameters using a Python tuple. The first three are fixed recursive utility parameters, γ, β, ρ. "
   ]
  },
  {
   "cell_type": "code",
   "execution_count": 5,
   "id": "43a4ac46",
   "metadata": {},
   "outputs": [],
   "source": [
    "σ_original = 0.0078\n",
    "\n",
    "γ = 10\n",
    "β = .998\n",
    "ρ = 2./3\n",
    "α = 0.979\n",
    "ϕ_e = 0.044 * σ_original\n",
    "σ_squared = 1.0\n",
    "ν_1 = 0.987\n",
    "σ_w = 0.23 * 1e-5 / σ_original**2\n",
    "μ = 0.0015\n",
    "μ_d = 0.0015\n",
    "ϕ_c = 1.0 * σ_original\n",
    "ϕ = 3.0\n",
    "ϕ_d = 4.5 * σ_original\n",
    "π = 0.0\n",
    "\n",
    "args = (γ, β, ρ, α, ϕ_e, σ_squared, ν_1, σ_w, μ, μ_d, ϕ, ϕ_d, ϕ_c, π)"
   ]
  },
  {
   "cell_type": "markdown",
   "id": "238e1c2a",
   "metadata": {},
   "source": [
    "## 1.5 Log Consumption Growth Function\n",
    "\n",
    "The expansion suite deals with the recursive utility in equation (2). We need to specify how to compute the log-growth of consumption using the defined variables `Var_t` and `Var_tp1` in the equilibrium conditions. \n",
    "\n",
    "- For some models the $C_t$ is replaced with $U_t$, then we need to specify the log growth process for $U_t$. \n",
    "- For some models with preference shocks, $C_t = \\lambda_t \\tilde{C}_t$, we need to specify the log growth process for $\\lambda_t \\tilde{C}_t$. \n",
    "\n",
    "$$\n",
    "V_t=\\left[(1-\\beta)\\left(C_t\\right)^{1-\\rho}+\\beta\\left(R_t\\right)^{1-\\rho}\\right]^{\\frac{1}{1-\\rho}}\\tag{2}\n",
    "$$"
   ]
  },
  {
   "cell_type": "code",
   "execution_count": 6,
   "id": "efcfa0e8",
   "metadata": {},
   "outputs": [],
   "source": [
    "def gc_tp1_approx(Var_t, Var_tp1, W_tp1, q, *args):\n",
    "\n",
    "    # Parameters for the model\n",
    "    γ, β, ρ, α, ϕ_e, σ_squared, ν_1, σ_w, μ, μ_d, ϕ, ϕ_d, ϕ_c, π = args\n",
    "\n",
    "    # Variables:\n",
    "    q_t, pd_t, x_t, σ_t_squared = Var_t.ravel()\n",
    "    q_tp1, pd_tp1, x_tp1, σ_tp1_squared = Var_tp1.ravel()\n",
    "    w1_tp1, w2_tp1, w3_tp1, w4_tp1 = W_tp1.ravel()\n",
    "    σ_t = anp.sqrt(σ_t_squared)\n",
    "    \n",
    "    gc_tp1 = μ + x_t + ϕ_c*σ_t*w3_tp1\n",
    "    \n",
    "    return gc_tp1"
   ]
  },
  {
   "cell_type": "markdown",
   "id": "020b982b",
   "metadata": {},
   "source": [
    "## 1.6 Solve the BY model using the Expansion Suite \n",
    "\n",
    "The expansion suite takes the above five necessary inputs to solve a model. The solution is stored into a class named `ModelSolution`(Please refer to uncertainexpansion.ipynb for details.) under the Linear Quadratic Framework. The computation of the framework is built on a `LinQuadVar` class."
   ]
  },
  {
   "cell_type": "code",
   "execution_count": 7,
   "id": "217c9448",
   "metadata": {},
   "outputs": [
    {
     "name": "stdout",
     "output_type": "stream",
     "text": [
      "Iteration 1: error = 30.6278088\n",
      "Iteration 2: error = 0\n"
     ]
    }
   ],
   "source": [
    "# Solve BY model\n",
    "eq = eq_cond_BY\n",
    "ss = ss_func_BY \n",
    "var_shape = (1, 2, 4)\n",
    "gc_tp1_fun = gc_tp1_approx\n",
    "args = (γ, β, ρ, α, ϕ_e, σ_squared, ν_1, σ_w, μ, μ_d, ϕ, ϕ_d, ϕ_c, π)\n",
    "approach = '1' # See Exploring Recursive Utility Appendix for difference about approach '1' and '2'\n",
    "ModelSol = uncertain_expansion(eq, ss, var_shape, args, gc_tp1_fun, approach)"
   ]
  },
  {
   "cell_type": "markdown",
   "id": "961bdc55",
   "metadata": {},
   "source": [
    "## 1.7 Model Solutions\n",
    "\n",
    "Below cells display analytical forms of the approximation results for jump variables and state variables. These variables are all stored as `LinQuadVar`. "
   ]
  },
  {
   "cell_type": "code",
   "execution_count": 8,
   "id": "3fa57ffa",
   "metadata": {},
   "outputs": [
    {
     "data": {
      "text/plain": [
       "{'xx': array([[180.11784618,   0.        ,   0.        ,   0.        ]]),\n",
       " 'c': array([[8.90178722]]),\n",
       " 'x': array([[84.54940357, -0.28169922]]),\n",
       " 'x2': array([[51.92256612,  0.        ]])}"
      ]
     },
     "execution_count": 8,
     "metadata": {},
     "output_type": "execute_result"
    }
   ],
   "source": [
    "## PD ratio approximation results, shown in the LinQuadVar coefficients form\n",
    "ModelSol['JX_t'][0].coeffs"
   ]
  },
  {
   "cell_type": "code",
   "execution_count": 9,
   "id": "17120905",
   "metadata": {},
   "outputs": [
    {
     "data": {
      "text/latex": [
       "$\\displaystyle \\text{pd}_t=8.902+\\begin{bmatrix}84.55&-0.2817\\end{bmatrix}X_t^1+\\begin{bmatrix}51.92&0\\end{bmatrix}X_t^2+X^{1T}_{t}\\begin{bmatrix}180.1&0\\\\0&0\\end{bmatrix}X^1_{t}$"
      ],
      "text/plain": [
       "<IPython.core.display.Math object>"
      ]
     },
     "metadata": {},
     "output_type": "display_data"
    }
   ],
   "source": [
    "## PD ratio approximation results, shown in the Latex analytical form\n",
    "disp(ModelSol['JX_t'][0],'\\\\text{pd}_t') "
   ]
  },
  {
   "cell_type": "code",
   "execution_count": 29,
   "id": "95f0d7a9",
   "metadata": {},
   "outputs": [
    {
     "data": {
      "text/latex": [
       "$\\displaystyle \\text{pd}^0_t=6.5$"
      ],
      "text/plain": [
       "<IPython.core.display.Math object>"
      ]
     },
     "metadata": {},
     "output_type": "display_data"
    }
   ],
   "source": [
    "## PD ratio zeroth order approximation results\n",
    "disp(ModelSol['J0_t'][0],'\\\\text{pd}^0_t')"
   ]
  },
  {
   "cell_type": "code",
   "execution_count": 30,
   "id": "a72dd14c",
   "metadata": {},
   "outputs": [
    {
     "data": {
      "text/latex": [
       "$\\displaystyle \\text{pd}^1_t=-2.718+\\begin{bmatrix}103.8&-0\\end{bmatrix}X_t^1$"
      ],
      "text/plain": [
       "<IPython.core.display.Math object>"
      ]
     },
     "metadata": {},
     "output_type": "display_data"
    }
   ],
   "source": [
    "## PD ratio first order approximation results\n",
    "disp(ModelSol['J1_t'][0],'\\\\text{pd}^1_t')"
   ]
  },
  {
   "cell_type": "code",
   "execution_count": 31,
   "id": "5756f191",
   "metadata": {},
   "outputs": [
    {
     "data": {
      "text/latex": [
       "$\\displaystyle \\text{pd}^2_t=10.24+\\begin{bmatrix}-38.59&-0.5634\\end{bmatrix}X_t^1+\\begin{bmatrix}103.8&-0\\end{bmatrix}X_t^2+X^{1T}_{t}\\begin{bmatrix}360.2&0\\\\0&0\\end{bmatrix}X^1_{t}$"
      ],
      "text/plain": [
       "<IPython.core.display.Math object>"
      ]
     },
     "metadata": {},
     "output_type": "display_data"
    }
   ],
   "source": [
    "## PD ratio second order approximation results\n",
    "disp(ModelSol['J2_t'][0],'\\\\text{pd}^2_t')"
   ]
  },
  {
   "cell_type": "code",
   "execution_count": 36,
   "id": "25e05001",
   "metadata": {},
   "outputs": [
    {
     "data": {
      "text/latex": [
       "$\\displaystyle \\text{x}^1_t=\\begin{bmatrix}0.979&0\\end{bmatrix}X_t^1+\\begin{bmatrix}0.0003432&0&0&0\\end{bmatrix}W_{t+1}$"
      ],
      "text/plain": [
       "<IPython.core.display.Math object>"
      ]
     },
     "metadata": {},
     "output_type": "display_data"
    }
   ],
   "source": [
    "## Growth process first order approximation results\n",
    "disp(ModelSol['X1_tp1'][0],'\\\\text{x}^1_{t+1}') "
   ]
  },
  {
   "cell_type": "code",
   "execution_count": 38,
   "id": "d5b18ec2",
   "metadata": {},
   "outputs": [
    {
     "data": {
      "text/latex": [
       "$\\displaystyle \\text{x}^2_{t+1}=\\begin{bmatrix}0.979&0\\end{bmatrix}X_t^2+X^{1T}_{t}\\begin{bmatrix}0&0&0&0\\\\0.0003432&0&0&0\\end{bmatrix}W_{t+1}$"
      ],
      "text/plain": [
       "<IPython.core.display.Math object>"
      ]
     },
     "metadata": {},
     "output_type": "display_data"
    }
   ],
   "source": [
    "## Growth process second order approximation results\n",
    "disp(ModelSol['X2_tp1'][0],'\\\\text{x}^2_{t+1}') "
   ]
  },
  {
   "cell_type": "code",
   "execution_count": 42,
   "id": "dafc6320",
   "metadata": {},
   "outputs": [
    {
     "data": {
      "text/latex": [
       "$\\displaystyle {\\sigma^2_{t+1}}^1=\\begin{bmatrix}0&0.987\\end{bmatrix}X_t^1+\\begin{bmatrix}0&0.0378&0&0\\end{bmatrix}W_{t+1}$"
      ],
      "text/plain": [
       "<IPython.core.display.Math object>"
      ]
     },
     "metadata": {},
     "output_type": "display_data"
    }
   ],
   "source": [
    "## Volatility process first order approximation results\n",
    "disp(ModelSol['X1_tp1'][1],'{\\\\sigma^2_{t+1}}^1') "
   ]
  },
  {
   "cell_type": "code",
   "execution_count": 44,
   "id": "b30cf02a",
   "metadata": {},
   "outputs": [
    {
     "data": {
      "text/latex": [
       "$\\displaystyle {\\sigma^2_{t+1}}^2=\\begin{bmatrix}0&0.987\\end{bmatrix}X_t^2$"
      ],
      "text/plain": [
       "<IPython.core.display.Math object>"
      ]
     },
     "metadata": {},
     "output_type": "display_data"
    }
   ],
   "source": [
    "## Volatility process second order approximation results\n",
    "disp(ModelSol['X2_tp1'][1],'{\\\\sigma^2_{t+1}}^2') "
   ]
  },
  {
   "cell_type": "markdown",
   "id": "0190ee8e",
   "metadata": {},
   "source": [
    "## 1.8 Approximate Variables\n",
    "\n",
    "If some variables can be computed using solved model variables, we can write a function to specify how to approximate, and then use `approximate_fun` to compute the approximation of these variables using model solutions. The below example computes the approximation of log dividend growth process."
   ]
  },
  {
   "cell_type": "code",
   "execution_count": 15,
   "id": "145a47f6",
   "metadata": {},
   "outputs": [
    {
     "data": {
      "text/plain": [
       "{'x': array([[3., 0.]]), 'w': array([[0.    , 0.    , 0.    , 0.0351]])}"
      ]
     },
     "execution_count": 15,
     "metadata": {},
     "output_type": "execute_result"
    }
   ],
   "source": [
    "def gd_tp1_approx(Var_t, Var_tp1, W_tp1, q, *args):\n",
    "\n",
    "    # Parameters for the model\n",
    "    γ, β, ρ, α, ϕ_e, σ_squared, ν_1, σ_w, μ, μ_d, ϕ, ϕ_d, ϕ_c, π = args\n",
    "\n",
    "    # Variables:\n",
    "    pd_t, x_t, σ_t_squared = Var_t.ravel()\n",
    "    pd_tp1, x_tp1, σ_tp1_squared = Var_tp1.ravel()\n",
    "    w1_tp1, w2_tp1, w3_tp1, w4_tp1 = W_tp1.ravel()\n",
    "    σ_t = anp.sqrt(σ_t_squared)\n",
    "    \n",
    "    gd_tp1 = μ_d + ϕ*x_t + π*σ_t*w3_tp1 + ϕ_d*σ_t*w4_tp1\n",
    "    \n",
    "    return gd_tp1\n",
    "\n",
    "n_J, n_X, n_W = var_shape\n",
    "gd_tp1_list = approximate_fun(gd_tp1_approx, ModelSol['ss'], (1, n_X, n_W), ModelSol['JX1_t'], ModelSol['JX2_t'], ModelSol['X1_tp1'], ModelSol['X2_tp1'], args)\n",
    "gd_tp1 = {'gd_tp1':gd_tp1_list[0],\\\n",
    "        'gd0_tp1':gd_tp1_list[1],\\\n",
    "        'gd1_tp1':gd_tp1_list[2],\\\n",
    "        'gd2_tp1':gd_tp1_list[3]}\n",
    "gd_tp1['gd1_tp1'].coeffs"
   ]
  },
  {
   "cell_type": "markdown",
   "id": "bbd28ede",
   "metadata": {},
   "source": [
    "## 1.9 Model Simulations\n",
    "Given a series of shock processes, we can simulate variables using the `simulate` function. Below examples simulate the growth of consumption and growth process with 400 periods i.i.d standard multivariate normal shocks."
   ]
  },
  {
   "cell_type": "code",
   "execution_count": 24,
   "id": "58417c59",
   "metadata": {},
   "outputs": [],
   "source": [
    "Ws = np.random.multivariate_normal(np.zeros(n_W),np.eye(n_W),size = 400)\n",
    "gc_tp1_sim = simulate(ModelSol['gc_tp1'], ModelSol['X1_tp1'], ModelSol['X2_tp1'],Ws)\n",
    "x_tp1_sim = simulate(ModelSol['JX_tp1'][0], ModelSol['X1_tp1'], ModelSol['X2_tp1'],Ws)\n",
    "\n",
    "## ModelSolution also has an attribute to simulate all jump and state varibles \n",
    "JX_sim = ModelSol.simulate(Ws)"
   ]
  },
  {
   "cell_type": "markdown",
   "id": "738d5ef7",
   "metadata": {},
   "source": [
    "## 1.10 IRF\n",
    "\n",
    "`ModelSolution` has a method `IRF` to compute the IRF of all jump and state variables. Below we calculate the IRF of all variables with respect to the first shock for 400 periods."
   ]
  },
  {
   "cell_type": "code",
   "execution_count": 23,
   "id": "2eea0872",
   "metadata": {},
   "outputs": [],
   "source": [
    "states, controls = ModelSol.IRF(400, 0)"
   ]
  },
  {
   "cell_type": "markdown",
   "id": "eab36438",
   "metadata": {},
   "source": [
    "# 2 Examples to use LinQuadVar in Computation\n",
    "\n",
    "## 2.1 Define a LinQuadVar\n",
    "\n",
    "Below we extract the steady states for the state evolution processes from the previous model solution, and construct it as a 2-dimension LinQuadVar."
   ]
  },
  {
   "cell_type": "code",
   "execution_count": 53,
   "id": "b5d7ee6b",
   "metadata": {},
   "outputs": [
    {
     "data": {
      "text/plain": [
       "{'c': array([[0.],\n",
       "        [1.]])}"
      ]
     },
     "execution_count": 53,
     "metadata": {},
     "output_type": "execute_result"
    }
   ],
   "source": [
    "n_J, n_X, n_W = ModelSol['var_shape']\n",
    "X0_tp1 = LinQuadVar({'c':np.array([[ModelSol['ss'][1]],[ModelSol['ss'][2]]])}, shape = (2, n_X, n_W))\n",
    "X0_tp1.coeffs"
   ]
  },
  {
   "cell_type": "markdown",
   "id": "a5270666",
   "metadata": {},
   "source": [
    "## 2.2 LinQuad Operations\n",
    "Below show two ways to add two LinQuads, we use the zeroth order, first order, second order approximation results to construct the approximation for the growth process or both state evolution processes."
   ]
  },
  {
   "cell_type": "code",
   "execution_count": 68,
   "id": "205dd148",
   "metadata": {},
   "outputs": [
    {
     "data": {
      "text/latex": [
       "$\\displaystyle \\text{x}_{t+1}=\\begin{bmatrix}0.979&0\\end{bmatrix}X_t^1+\\begin{bmatrix}0.0003432&0&0&0\\end{bmatrix}W_{t+1}+\\begin{bmatrix}0.4895&0\\end{bmatrix}X_t^2+X^{1T}_{t}\\begin{bmatrix}0&0&0&0\\\\0.0001716&0&0&0\\end{bmatrix}W_{t+1}$"
      ],
      "text/plain": [
       "<IPython.core.display.Math object>"
      ]
     },
     "metadata": {},
     "output_type": "display_data"
    }
   ],
   "source": [
    "x_tp1 = X0_tp1[0] + ModelSol['X1_tp1'][0]  + 0.5 * ModelSol['X2_tp1'][0] \n",
    "disp(x_tp1,'\\\\text{x}_{t+1}') "
   ]
  },
  {
   "cell_type": "code",
   "execution_count": 69,
   "id": "b5747b24",
   "metadata": {},
   "outputs": [
    {
     "data": {
      "text/plain": [
       "{'x': array([[0.979, 0.   ],\n",
       "        [0.   , 0.987]]),\n",
       " 'xw': array([[0.       , 0.       , 0.       , 0.       , 0.0001716, 0.       ,\n",
       "         0.       , 0.       ],\n",
       "        [0.       , 0.       , 0.       , 0.       , 0.       , 0.       ,\n",
       "         0.       , 0.       ]]),\n",
       " 'w': array([[0.0003432 , 0.        , 0.        , 0.        ],\n",
       "        [0.        , 0.03780408, 0.        , 0.        ]]),\n",
       " 'x2': array([[0.4895, 0.    ],\n",
       "        [0.    , 0.4935]]),\n",
       " 'c': array([[0.],\n",
       "        [1.]])}"
      ]
     },
     "execution_count": 69,
     "metadata": {},
     "output_type": "execute_result"
    }
   ],
   "source": [
    "lq_sum([X0_tp1, ModelSol['X1_tp1'], 0.5 * ModelSol['X2_tp1']]).coeffs"
   ]
  },
  {
   "cell_type": "markdown",
   "id": "5c1952e3",
   "metadata": {},
   "source": [
    "## 2.3 LinQuad Spilt and Concat\n",
    "`Spilt` breaks multiple dimension LinQuad into one-dimension LinQuads, while `Concat` does the inverse operation"
   ]
  },
  {
   "cell_type": "code",
   "execution_count": 73,
   "id": "d085149f",
   "metadata": {},
   "outputs": [
    {
     "data": {
      "text/plain": [
       "<lin_quad.LinQuadVar at 0x7fd4c1dcc640>"
      ]
     },
     "execution_count": 73,
     "metadata": {},
     "output_type": "execute_result"
    }
   ],
   "source": [
    "x1_tp1, sigma1_tp1 = ModelSol['X1_tp1'].split()\n",
    "concat([x1_tp1, sigma1_tp1])"
   ]
  },
  {
   "cell_type": "markdown",
   "id": "e67b04c1",
   "metadata": {},
   "source": [
    "## 2.4 Evaluate a LinQuad\n",
    "Given specific values for $X_{t}$, $W_{t+1}$, we can evaluate a `LinQuadVar`. Below evaluate the PD ratio, growth process, and volatility process."
   ]
  },
  {
   "cell_type": "code",
   "execution_count": 81,
   "id": "5782676a",
   "metadata": {},
   "outputs": [
    {
     "data": {
      "text/plain": [
       "array([[ 8.87618617],\n",
       "       [-0.00031046],\n",
       "       [ 0.99775924]])"
      ]
     },
     "execution_count": 81,
     "metadata": {},
     "output_type": "execute_result"
    }
   ],
   "source": [
    "x1 = np.zeros([n_X ,1])\n",
    "x2 = np.zeros([n_X ,1])\n",
    "w = np.random.multivariate_normal(np.zeros(n_W),np.eye(n_W),size = 1).T\n",
    "ModelSol['JX_tp1'](*(x1,x2,w))"
   ]
  },
  {
   "cell_type": "markdown",
   "id": "5051f96c",
   "metadata": {},
   "source": [
    "## 2.5 Adjust Conditional Information Time \n",
    "Since some LinQuadVars (e.g. solved jump variables) are expressed as a function of time $t$ state variables without shocks, when we would like to compute its next period expression, $t+1$, with shocks, but still as a function of time $t$ state variables, we can use function `next_period`."
   ]
  },
  {
   "cell_type": "code",
   "execution_count": 83,
   "id": "7e088a47",
   "metadata": {},
   "outputs": [
    {
     "data": {
      "text/latex": [
       "$\\displaystyle \\text{pd}^1_{t+1}=-2.718+\\begin{bmatrix}101.7&0\\end{bmatrix}X_t^1+\\begin{bmatrix}0.03564&0&0&0\\end{bmatrix}W_{t+1}$"
      ],
      "text/plain": [
       "<IPython.core.display.Math object>"
      ]
     },
     "metadata": {},
     "output_type": "display_data"
    }
   ],
   "source": [
    "pd1_tp1 = next_period(ModelSol['J1_t'], ModelSol['X1_tp1'])\n",
    "disp(pd1_tp1, '\\\\text{pd}^1_{t+1}')"
   ]
  },
  {
   "cell_type": "code",
   "execution_count": 84,
   "id": "fa8ab664",
   "metadata": {},
   "outputs": [
    {
     "data": {
      "text/latex": [
       "$\\displaystyle \\text{pd}^2_{t+1}=10.24+\\begin{bmatrix}-37.78&-0.5561\\end{bmatrix}X_t^1+\\begin{bmatrix}-0.01324&-0.0213&0&0\\end{bmatrix}W_{t+1}+\\begin{bmatrix}101.7&0\\end{bmatrix}X_t^2+X^{1T}_{t}\\begin{bmatrix}345.3&0\\\\0&0\\end{bmatrix}X^1_{t}+X^{1T}_{t}\\begin{bmatrix}0.2421&0&0&0\\\\0.03564&0&0&0\\end{bmatrix}W_{t+1}+W_{t+1}^{T}\\begin{bmatrix}4.243e-05&0&0&0\\\\0&0&0&0\\\\0&0&0&0\\\\0&0&0&0\\end{bmatrix}W_{t+1}$"
      ],
      "text/plain": [
       "<IPython.core.display.Math object>"
      ]
     },
     "metadata": {},
     "output_type": "display_data"
    }
   ],
   "source": [
    "pd2_tp1 = next_period(ModelSol['J2_t'], ModelSol['X1_tp1'], ModelSol['X2_tp1'])\n",
    "disp(pd2_tp1, '\\\\text{pd}^2_{t+1}')"
   ]
  },
  {
   "cell_type": "markdown",
   "id": "daa0c4c1",
   "metadata": {},
   "source": [
    "## 2.6 Compute the Expectation of time t+1 LinQuadVar\n",
    "\n",
    "Suppose the distribution of shock has a constant mean and variance (not state dependent), we can use `E` to compute the expectation of time t+1 LinQuadVar.\n"
   ]
  },
  {
   "cell_type": "code",
   "execution_count": 89,
   "id": "3140272c",
   "metadata": {},
   "outputs": [
    {
     "data": {
      "text/latex": [
       "$\\displaystyle \\mathbb{E}[\\text{pd}^1_{t+1}|\\mathfrak{F_t}]=-2.718+\\begin{bmatrix}101.7&0\\end{bmatrix}X_t^1$"
      ],
      "text/plain": [
       "<IPython.core.display.Math object>"
      ]
     },
     "metadata": {},
     "output_type": "display_data"
    }
   ],
   "source": [
    "E_w = np.zeros([n_W,1])\n",
    "cov_w = np.eye(n_W)\n",
    "E_ww = cal_E_ww(E_w, cov_w)\n",
    "E_pd1_tp1 = E(pd1_tp1, E_w, E_ww)\n",
    "disp(E_pd1_tp1, '\\mathbb{E}[\\\\text{pd}^1_{t+1}|\\mathfrak{F_t}]')"
   ]
  },
  {
   "cell_type": "code",
   "execution_count": null,
   "id": "1f22fd89",
   "metadata": {},
   "outputs": [],
   "source": []
  }
 ],
 "metadata": {
  "interpreter": {
   "hash": "1c67a9c81f4b1f676ee52b818d3e176be5c9dd44f82a35d6054954eb94c37bc5"
  },
  "kernelspec": {
   "display_name": "Python 3.9.12 ('base')",
   "language": "python",
   "name": "python3"
  },
  "language_info": {
   "codemirror_mode": {
    "name": "ipython",
    "version": 3
   },
   "file_extension": ".py",
   "mimetype": "text/x-python",
   "name": "python",
   "nbconvert_exporter": "python",
   "pygments_lexer": "ipython3",
   "version": "3.9.12"
  }
 },
 "nbformat": 4,
 "nbformat_minor": 5
}
