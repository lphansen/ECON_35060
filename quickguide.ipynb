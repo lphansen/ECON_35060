{
 "cells": [
  {
   "cell_type": "markdown",
   "id": "f5e7b1d0",
   "metadata": {
    "id": "f5e7b1d0"
   },
   "source": [
    "<a href=\"https://colab.research.google.com/github/lphansen/RiskUncertaintyValue/blob/main/quickguide.ipynb\" target=\"_parent\"><img src=\"https://colab.research.google.com/assets/colab-badge.svg\" alt=\"Open In Colab\"/></a>"
   ]
  },
  {
   "cell_type": "markdown",
   "id": "ef624dcb",
   "metadata": {
    "id": "ef624dcb"
   },
   "source": [
    "For this notebook \n",
    "\n",
    "- Section 1 provides a five-minute guide to solving the DSGE model using the expansion suite, as well as how to \n",
    "    - compute shock elasticities and IRF\n",
    "    - approximate and simulate variables based on model solutions. \n",
    "\n",
    "\n",
    "- Section 2 provides examples of `LinQuadVar` computations, including\n",
    "    - constructions, operations, and evaluations\n",
    "    - adjusting time periods\n",
    "    - computing expectations\n"
   ]
  },
  {
   "cell_type": "markdown",
   "id": "6f590ad3-c8d4-4fba-93f4-bf14f4f3364b",
   "metadata": {},
   "source": [
    "**Table of Contents**\n",
    "* [1. Five-minute guide to solving the DSGE model using the Expansion Suite](#s1)\n",
    "    * [1.1 Equilibrium Condition Function](#s1-1)\n",
    "    * [1.2 Model Steady State Function](#s1-2)\n",
    "    * [1.3 Model Variable Dimension Array](#s1-3)\n",
    "    * [1.4 Model Parameter Calibration Tuple](#s1-4)\n",
    "    * [1.5 Log Consumption Growth Function](#s1-5)\n",
    "    * [1.6 Solve the BY model using the Expansion Suite](#s1-6)\n",
    "    * [1.7 Model Solutions](#s1-7)\n",
    "    * [1.8 Approximate Variables](#s1-8)\n",
    "    * [1.9 Model Simulations](#s1-9)\n",
    "    * [1.10 Shock Elasticities and IRF](#s1-10)\n",
    "* [2. Examples to use `LinQuadVar` in Computation](#s2)\n",
    "    * [2.1 Define a `LinQuadVar` ](#s2-1)\n",
    "    * [2.2 `LinQuadVar` Operations](#s2-2)\n",
    "    * [2.3 `LinQuadVar` Split and Concat](#s2-3)\n",
    "    * [2.4 Evaluate a `LinQuadVar`](#s2-4)\n",
    "    * [2.5 Adjust Conditional Information Time](#s2-5)\n",
    "    * [2.6 Compute the Expectation of time $t+1$](#s2-6)"
   ]
  },
  {
   "cell_type": "markdown",
   "id": "06a5ca90-4eec-48d3-862a-4a00d766b58e",
   "metadata": {},
   "source": [
    "**Definition of input variables for the following functions:** \n",
    "\n",
    "`Var_t` : array_like; Vector of jump and state variables in the current period.\n",
    "\n",
    "`Var_tp1` : array_like; Vector of jump and state variables in the next period.\n",
    "\n",
    "`W_tp1` : array_like; Vector of shock variables in the next period.\n",
    "\n",
    "`q` : float; Perturbation parameter.\n",
    "    \n",
    "`mode` : string; By default, this function returns the LHS of equation (1) and (2). Set mode to 'psi1', 'psi2', or 'phi' to return the corresponding function in the equilibrium conditions.\n",
    "    \n",
    "`args` : tuple of float/ndarray; Preference and model parameters."
   ]
  },
  {
   "cell_type": "code",
   "execution_count": 2,
   "id": "ea879a4f",
   "metadata": {
    "id": "ea879a4f",
    "outputId": "08543002-1b94-4543-da6e-0820551120d2"
   },
   "outputs": [
    {
     "data": {
      "text/html": [
       "<style>.container { width:97% !important; }</style>"
      ],
      "text/plain": [
       "<IPython.core.display.HTML object>"
      ]
     },
     "metadata": {},
     "output_type": "display_data"
    }
   ],
   "source": [
    "## Import packages \n",
    "# TO DO: Uncomment lines for cloning github packages when running on Google Colab\n",
    "\n",
    "import os\n",
    "import sys\n",
    "workdir = os.getcwd()\n",
    "# !git clone https://github.com/lphansen/RiskUncertaintyValue # Uncomment this when running on Google Colab\n",
    "# workdir = os.getcwd() + '/RiskUncertaintyValue'             # Uncomment this when running on Google Colab\n",
    "sys.path.insert(0, workdir+'/src')                        \n",
    "import numpy as np\n",
    "import autograd.numpy as anp\n",
    "from scipy import optimize\n",
    "np.set_printoptions(suppress=True)\n",
    "np.set_printoptions(linewidth=200)\n",
    "from IPython.display import display, HTML\n",
    "from BY_example_sol import disp\n",
    "display(HTML(\"<style>.container { width:97% !important; }</style>\"))\n",
    "import warnings\n",
    "warnings.filterwarnings(\"ignore\")\n",
    "\n",
    "from lin_quad import LinQuadVar\n",
    "from lin_quad_util import E, concat, next_period, cal_E_ww, lq_sum, N_tilde_measure, E_N_tp1\n",
    "from uncertain_expansion import uncertain_expansion\n",
    "np.set_printoptions(suppress=True)"
   ]
  },
  {
   "cell_type": "markdown",
   "id": "1f06685a",
   "metadata": {
    "id": "1f06685a"
   },
   "source": [
    "# 1. Five-minute guide to solving the DSGE model using the Expansion Suite <a class=\"anchor\" id=\"s1\"></a>\n",
    "\n",
    "Suppose we would like to solve an adjustment cost model. Its equilibrium conditions include\n",
    "- Three forward-looking conditions\n",
    "$$\n",
    "\\begin{aligned}\n",
    "\\frac{C_t}{K_t} + \\frac{I_t}{K_t}  &= {\\mathbf a}\\\\\n",
    "\\mathbb{E}\\left[\\left(\\frac{S_{t+1}}{S_t}\\right) \\frac {MK_{t+1}}{MC_{t+1}} \\frac{K_{t+1}}{K_t} \\frac{1}{1+\\theta_2\\left(\\frac{I_t}{K_t}\\right)} \\mid \\mathfrak{A}_t\\right] - 1  &= 0\\\\\n",
    "\\mathbb{E}\\left[\\left(\\frac{S_{t+1}}{S_t}\\right) \\frac {MK_{t+1}}{MC_{t+1}} \\frac{K_{t+1}}{K_t} \\frac{1\n",
    "+(\\theta_2-1)\\frac{I_t}{K_t}}{1+\\theta_2\\left(\\frac{I_t}{K_t}\\right)} \\mid \\mathfrak{A}_t\\right] - \\frac{MK_t}{MC_t}+{\\mathbf a}&= 0\n",
    "\\end{aligned}\n",
    "$$\n",
    "\n",
    "- Two state-evolution equations\n",
    "$$\n",
    "\\begin{aligned}\n",
    "\\frac{K_{t+1}}{K_t} &=  \\left[1 + \\theta_2 \\left({\\frac {I_t} {K_t}}\\right) \\right]^{\\theta_1} \\exp( - \\alpha_k + Z_t - {\\frac 1 2} \\mid \\sigma_k \\mid^2  + \\sigma_k\\cdot W_{t+1})\\\\\n",
    "Z_{t+1} &= {\\mathbb A} Z_t + \\mathbb{B} W_{t+1}\n",
    "\\end{aligned}\n",
    "$$\n",
    "\n",
    "where we have\n",
    "$$\n",
    "\\begin{aligned}\n",
    "\\frac{S_{t+1}}{S_t}& = \\beta \\left(\\frac{V_{t+1}}{R_t}\\right)^{1-\\gamma} \\left(\\frac{V_{t+1}}{R_t}\\right)^{\\rho-1} \\left(\\frac{C_{t+1}}{C_t}\\right)^{-\\rho}\n",
    "\\end{aligned}\n",
    "$$\n",
    "\n",
    "The model has one jump variable (In the expansion suite, $J_t$ is used to represent jump variables):\n",
    "- $\\log C_t - \\log K_t$ : Log consumption over capital\n",
    "- $\\log I_t - \\log K_t$ : Log investment over capital\n",
    "- $\\log MK_t - \\log MC_t$ : Log co-state variable\n",
    "\n",
    "Two state variables (In the expansion suite, $X_t$ is used to represent state variables):\n",
    "- $\\log K_{t} - \\log K_{t-1}$ : Log capital growth process\n",
    "- $Z_{t}$ : Exogenous state\n",
    "\n",
    "The Expansion Suite only takes **five** necessary inputs to solve the DSGE model."
   ]
  },
  {
   "cell_type": "markdown",
   "id": "ba75562f",
   "metadata": {
    "id": "ba75562f"
   },
   "source": [
    "## 1.1 Equilibrium Condition Function <a class=\"anchor\" id=\"s1-1\"></a>\n",
    "\n",
    "The Equilibrium Condition Function takes the form of the next cell. \n",
    "\n",
    "Note that:\n",
    "\n",
    "1. At the beginning of this function, we need to specify the parameters and variables used in the equilibrium conditions. \n",
    "\n",
    "    - The first components of `Var_t` and `Var_tp1` are fixed as `q_t` or `q_tp1`. (See Exploring Recursive Utility Appendix for details.)\n",
    "    \n",
    "    - State variables need to follow jump variables.\n",
    "\n",
    "    - The number of jump variables (except `q_t` and `q_tp1`) should equal the number of forward-looking equilibrium conditions. \n",
    "\n",
    "    - The number of state variables should equal to the number of state evolution equations.\n",
    "\n",
    "2. Then we specify each equilibrium condition using above specified parameter and variables. \n",
    "\n",
    "    - The algorithm requires us to rewrite the equilibrium conditions in the form as equation (1). We need to find what `psi1` is in our equilibrium conditions, specify what  `psi1` look like, and then return it using `psi1` mode. \n",
    "    \n",
    "    - The log change of measure is skipped in the specification of equilibrium conditions.\n",
    "\n",
    "3. By default (without `mode` specification), the function needs to return the LHS of each equilibrium condition before taking expectation. \n",
    "\n",
    "    - The state-evolution equations should follow the forward-looking conditions."
   ]
  },
  {
   "cell_type": "markdown",
   "id": "3197dacb",
   "metadata": {
    "id": "3197dacb"
   },
   "source": [
    "$$\n",
    "\\begin{aligned}\n",
    "\\mathbb{E}[{N_{t+1}^*Q_{t+1}^* \\psi_1(X_t, J_t, X_{t+1}, J_{t+1})}|{\\mathfrak{A}_t}] - \\psi_2(X_t, J_t)  &= 0 \\\\\n",
    "  \\phi\\left(X_t, X_{t+1}, J_t, {\\sf q}W_{t+1}, {\\sf q} \\right) &= 0 \n",
    "\\end{aligned}\\tag{1}\n",
    "$$\n",
    "\n",
    "- In this simple example, we can rewrite the FOC and co-state equation as \n",
    "$$\n",
    "\\begin{aligned}\n",
    "\\mathbb{E}\\left[ N_{t+1}^*Q_{t+1}^* \\beta\\left(\\frac{C_{t+1}}{C_t}\\right)^{-\\rho}\\frac {MK_{t+1}}{MC_{t+1}} \\frac{K_{t+1}}{K_t} \\frac{1}{1+\\theta_2\\left(\\frac{I_t}{K_t}\\right)} \\mid \\mathfrak{A}_t\\right] - 1  &= 0\\\\\n",
    "\\mathbb{E}\\left[N_{t+1}^*Q_{t+1}^* \\beta\\left(\\frac{C_{t+1}}{C_t}\\right)^{-\\rho} \\frac {MK_{t+1}}{MC_{t+1}} \\frac{K_{t+1}}{K_t} \\frac{1\n",
    "+(\\theta_2-1)\\frac{I_t}{K_t}}{1+\\theta_2\\left(\\frac{I_t}{K_t}\\right)} \\mid \\mathfrak{A}_t\\right] - \\frac{MK_t}{MC_t}+{\\mathbf a}&= 0\\\\\n",
    "\\end{aligned}\n",
    "$$\n",
    "\n",
    "- where `psi1` will be a three dimensional array \n",
    "$$\n",
    "\\psi_1 = \n",
    "\\begin{bmatrix}\n",
    "0\\\\ \n",
    "\\beta\\left(\\frac{C_{t+1}}{C_t}\\right)^{-\\rho}\\frac {MK_{t+1}}{MC_{t+1}} \\frac{K_{t+1}}{K_t} \\frac{1}{1+\\theta_2\\left(\\frac{I_t}{K_t}\\right)}\\\\\n",
    "\\beta\\left(\\frac{C_{t+1}}{C_t}\\right)^{-\\rho} \\frac {MK_{t+1}}{MC_{t+1}} \\frac{K_{t+1}}{K_t} \\frac{1\n",
    "+(\\theta_2-1)\\frac{I_t}{K_t}}{1+\\theta_2\\left(\\frac{I_t}{K_t}\\right)}\\end{bmatrix}\n",
    "$$\n",
    " \n",
    "- the `psi2` will also be a three dimensional array \n",
    "$$\n",
    "\\psi_2 = \n",
    "\\begin{bmatrix}\n",
    "\\frac{C_t}{K_t} + \\frac{I_t}{K_t} - {\\mathbf a}\\\\\n",
    "1\\\\\n",
    "\\frac{MK_t}{MC_t}-{\\mathbf a}\n",
    "\\end{bmatrix}\n",
    "$$\n",
    "\n",
    "- the `phi` will be a two dimensional array \n",
    "$$\\phi=\\begin{bmatrix} \n",
    "&\\frac{K_{t+1}}{K_t} - \\left[1 + \\theta_2 \\left({\\frac {I_t} {K_t}}\\right) \\right]^{\\theta_1} \\exp( - \\alpha_k + Z_t - {\\frac 1 2} \\mid \\sigma_k \\mid^2  + \\sigma_k\\cdot W_{t+1})\\\\\n",
    "&Z_{t+1} - {\\mathbb A} Z_t + \\mathbb{B} W_{t+1}\n",
    "\\end{bmatrix}$$"
   ]
  },
  {
   "cell_type": "code",
   "execution_count": 3,
   "id": "6ae5d2d3",
   "metadata": {
    "id": "6ae5d2d3"
   },
   "outputs": [],
   "source": [
    "def eq_ac(Var_t, Var_tp1, W_tp1, q, mode, *args):\n",
    "    \n",
    "    # Unpack model parameters\n",
    "    γ, β, ρ, a, θ_1, θ_2, α_k, σ_k, A, B = args\n",
    "\n",
    "    # Unpack model variables\n",
    "    q_t, cmk_t, imk_t, mkmc_t, Z_t, gk_t = Var_t.ravel()\n",
    "    q_tp1, cmk_tp1, imk_tp1, mkmc_tp1, Z_tp1, gk_tp1 = Var_tp1.ravel()\n",
    "\n",
    "    # Intermedite varibles that facilitates computation\n",
    "    sdf_ex = anp.log(β) - ρ*(cmk_tp1+gk_tp1-cmk_t)\n",
    "    g_dep = -α_k + Z_t + σ_k.T@W_tp1 - 0.5 *(σ_k.T@σ_k).item()\n",
    "    \n",
    "    ## Forward-looking conditions\n",
    "    psi1_1 = 0.\n",
    "    psi1_2 = anp.exp(sdf_ex + mkmc_tp1 + gk_tp1 - anp.log(1.+θ_2 * anp.exp(imk_t)))\n",
    "    psi1_3 = anp.exp(sdf_ex + mkmc_tp1 + gk_tp1 + anp.log(1.+(θ_2-1) * anp.exp(imk_t)) - anp.log(1.+ θ_2*anp.exp(imk_t)))\n",
    "\n",
    "    psi2_1 = -a + anp.exp(cmk_t) + anp.exp(imk_t)\n",
    "    psi2_2 = 1.\n",
    "    psi2_3 = anp.exp(mkmc_t) - a\n",
    "\n",
    "    # State evoluion processes\n",
    "    phi_1 = Z_tp1 - A*Z_t - B@W_tp1\n",
    "    phi_2 = gk_tp1 - θ_1 * anp.log(1.+θ_2*anp.exp(imk_t)) - g_dep\n",
    "    \n",
    "    if mode == 'psi1':\n",
    "        return np.array([psi1_1, psi1_2, psi1_3])\n",
    "    \n",
    "    return anp.array([\n",
    "        psi1_1 * anp.exp(q_tp1) - psi2_1,\n",
    "        psi1_2 * anp.exp(q_tp1) - psi2_2,\n",
    "        psi1_3 * anp.exp(q_tp1) - psi2_3,\n",
    "        phi_1, phi_2])"
   ]
  },
  {
   "cell_type": "markdown",
   "id": "d554abc5",
   "metadata": {
    "id": "d554abc5"
   },
   "source": [
    "## 1.2 Model Steady State Function <a class=\"anchor\" id=\"s1-2\"></a>\n",
    "\n",
    "This function takes model parameters as input and outputs the steady states for each variable following the variable order specified in `Var_t` and `Var_tp1`.\n",
    "\n",
    "- The first one will always be 0, since the steady state of `q_t` is 0."
   ]
  },
  {
   "cell_type": "code",
   "execution_count": 4,
   "id": "e0d871c4",
   "metadata": {
    "id": "e0d871c4"
   },
   "outputs": [],
   "source": [
    "def ss_ac(*args):\n",
    "\n",
    "    γ, β, ρ, a, θ_1, θ_2, α_k, σ_k, A, B = args\n",
    "\n",
    "    def f(imk):\n",
    "        g_k = θ_1 * np.log(1.+ θ_2 * np.exp(imk)) - α_k - 0.5 *(σ_k.T@σ_k).item()\n",
    "        sdf_ex = np.log(β) - ρ*g_k\n",
    "        g_dep = -α_k - 0.5 *(σ_k.T@σ_k).item()\n",
    "        mkmc = anp.log(1./anp.exp(sdf_ex  + g_k - anp.log(1.+θ_2 * anp.exp(imk))) )\n",
    "        return anp.exp(sdf_ex + mkmc + g_k + anp.log(1.+(θ_2-1) * anp.exp(imk)) - anp.log(1.+ θ_2*anp.exp(imk))) - anp.exp(mkmc) + a\n",
    "\n",
    "    imk = optimize.bisect(f,-40,np.log(a))\n",
    "    cmk = np.log(a - np.exp(imk))\n",
    "    g_k = θ_1 * np.log(1. + θ_2 * np.exp(imk)) - α_k - 0.5 *(σ_k.T@σ_k).item()\n",
    "    sdf_ex = np.log(β) - ρ*g_k\n",
    "    g_dep = - α_k - 0.5 *(σ_k.T@σ_k).item()\n",
    "    mkmc = anp.log(1./anp.exp(sdf_ex  + g_k - anp.log(1.+θ_2 * anp.exp(imk))) )\n",
    "\n",
    "    return np.array([0., cmk, imk, mkmc, 0., g_k])"
   ]
  },
  {
   "cell_type": "markdown",
   "id": "aadc21b2",
   "metadata": {
    "id": "aadc21b2"
   },
   "source": [
    "## 1.3 Model Variable Dimension Array <a class=\"anchor\" id=\"s1-3\"></a>\n",
    "\n",
    "Specify a simple numpy array for `(n_J, n_X, n_W)`. The dimensions for jump variables, state variables, and shock variables in the model."
   ]
  },
  {
   "cell_type": "code",
   "execution_count": 5,
   "id": "6f4f50b9",
   "metadata": {
    "id": "6f4f50b9"
   },
   "outputs": [],
   "source": [
    "var_shape = (3, 2, 2)"
   ]
  },
  {
   "cell_type": "markdown",
   "id": "715b17d5",
   "metadata": {
    "id": "715b17d5"
   },
   "source": [
    "## 1.4 Model Parameter Calibration Tuple <a class=\"anchor\" id=\"s1-4\"></a>\n",
    "\n",
    "Specify all the model parameters using a Python tuple. The first three are fixed recursive utility parameters, γ, β, ρ. "
   ]
  },
  {
   "cell_type": "code",
   "execution_count": 6,
   "id": "43a4ac46",
   "metadata": {
    "id": "43a4ac46"
   },
   "outputs": [],
   "source": [
    "γ = 10.\n",
    "ρ = 4./3\n",
    "β = np.exp(-0.0025)\n",
    "a = 0.0288\n",
    "θ_2 = 88.\n",
    "θ_1 = 1 / θ_2 \n",
    "α_k = 0.0088\n",
    "σ_k = np.array([[0.477],[0]]) * 0.01\n",
    "A = np.exp(-0.014)\n",
    "B = np.array([[0.011,0.025]]) * 0.01\n",
    "\n",
    "args = (γ, β, ρ, a, θ_1, θ_2, α_k, σ_k, A, B)"
   ]
  },
  {
   "cell_type": "markdown",
   "id": "238e1c2a",
   "metadata": {
    "id": "238e1c2a"
   },
   "source": [
    "## 1.5 Log Consumption Growth Function <a class=\"anchor\" id=\"s1-5\"></a>\n",
    "\n",
    "The expansion suite deals with the recursive utility in equation (2). We need to specify how to compute the log-growth of consumption using the defined variables `Var_t` and `Var_tp1` in the equilibrium conditions. \n",
    "\n",
    "- For some models with habits, $C_t$ is replaced with $U_t$, then we need to specify the log growth process for $U_t$ correspondingly.\n",
    "- For some models with preference shocks, $C_t = \\lambda_t \\tilde{C}_t$, we need to specify the log growth process for $\\lambda_t \\tilde{C}_t$. \n",
    "\n",
    "$$\n",
    "V_t=\\left[(1-\\beta)\\left(C_t\\right)^{1-\\rho}+\\beta\\left(R_t\\right)^{1-\\rho}\\right]^{\\frac{1}{1-\\rho}}\\tag{2}\n",
    "$$"
   ]
  },
  {
   "cell_type": "code",
   "execution_count": 7,
   "id": "efcfa0e8",
   "metadata": {
    "id": "efcfa0e8"
   },
   "outputs": [],
   "source": [
    "def gc_ac(Var_t, Var_tp1, W_tp1, q, *args):\n",
    "    \n",
    "    # Unpack model parameters\n",
    "    γ, β, ρ, a, θ_1, θ_2, α_k, σ_k, A, B = args\n",
    "\n",
    "    # Unpack model variables (q_t and q_tp1 should be the first variables)\n",
    "    q_t, cmk_t, imk_t, mkmc_t, Z_t, gk_t = Var_t.ravel()\n",
    "    q_tp1, cmk_tp1, imk_tp1, mkmc_tp1, Z_tp1, gk_tp1 = Var_tp1.ravel()\n",
    "\n",
    "    # Compute log consumption growth\n",
    "    gc_tp1 = cmk_tp1 + gk_tp1 - cmk_t\n",
    "    \n",
    "    return gc_tp1"
   ]
  },
  {
   "cell_type": "markdown",
   "id": "020b982b",
   "metadata": {
    "id": "020b982b"
   },
   "source": [
    "## 1.6 Solve the BY model using the Expansion Suite <a class=\"anchor\" id=\"s1-6\"></a>\n",
    "\n",
    "The expansion suite takes the above five necessary inputs to solve a model. The solution is stored in a class named `ModelSolution`(Please refer to uncertainexpansion.ipynb for details.) under the Linear Quadratic Framework. The computation of the framework is built on a `LinQuadVar` class.\n",
    "\n",
    "See [src/uncertain_expansion.py](https://github.com/lphansen/RiskUncertaintyValue/blob/main/src/uncertain_expansion.py) for source code of expansion suite.\n"
   ]
  },
  {
   "cell_type": "code",
   "execution_count": 8,
   "id": "217c9448",
   "metadata": {
    "id": "217c9448",
    "outputId": "aab57b59-6dce-4452-dfde-a6ee003cdbd7"
   },
   "outputs": [
    {
     "name": "stdout",
     "output_type": "stream",
     "text": [
      "Iteration 1: error = 1.13750867\n",
      "Iteration 2: error = 4.97379915e-14\n"
     ]
    }
   ],
   "source": [
    "# Solve BY model\n",
    "eq = eq_ac\n",
    "ss = ss_ac\n",
    "gc = gc_ac\n",
    "var_shape = (3, 2, 2)\n",
    "args = (γ, β, ρ, a, θ_1, θ_2, α_k, σ_k, A, B)\n",
    "approach = '1' # See Exploring Recursive Utility Appendix for difference about approach '1' and '2'\n",
    "ModelSol = uncertain_expansion(eq, ss, var_shape, args, gc, approach)"
   ]
  },
  {
   "cell_type": "markdown",
   "id": "961bdc55",
   "metadata": {
    "id": "961bdc55"
   },
   "source": [
    "## 1.7 Model Solutions <a class=\"anchor\" id=\"s1-7\"></a>\n",
    "\n",
    "Below cells display analytical forms of the approximation results for jump variables and state variables. These variables are all stored as `LinQuadVar`. "
   ]
  },
  {
   "cell_type": "code",
   "execution_count": 9,
   "id": "3fa57ffa",
   "metadata": {
    "id": "3fa57ffa",
    "outputId": "1cdb816b-4ed7-4c19-e009-60fdcf049004"
   },
   "outputs": [
    {
     "data": {
      "text/plain": [
       "{'x': array([[11.87510894, -0.        ]]), 'c': array([[-0.09142881]])}"
      ]
     },
     "execution_count": 9,
     "metadata": {},
     "output_type": "execute_result"
    }
   ],
   "source": [
    "## Log consumption over capital approximation results, shown in the LinQuadVar coefficients form\n",
    "ModelSol['JX1_t'][0].coeffs"
   ]
  },
  {
   "cell_type": "code",
   "execution_count": 10,
   "id": "17120905",
   "metadata": {
    "id": "17120905",
    "outputId": "3edf8e77-3777-4b60-c605-5d43fd8bbee5"
   },
   "outputs": [
    {
     "data": {
      "text/latex": [
       "$\\displaystyle \\log\\frac{C_t}{K_t}=-4.793+\\begin{bmatrix}12.45&-2.248e-19\\end{bmatrix}X_t^1+\\begin{bmatrix}5.938&-1.1e-19\\end{bmatrix}X_t^2+X^{1T}_{t}\\begin{bmatrix}-26.3&2.438e-18\\\\-1.82e-18&-4.52e-38\\end{bmatrix}X^1_{t}$"
      ],
      "text/plain": [
       "<IPython.core.display.Math object>"
      ]
     },
     "metadata": {},
     "output_type": "display_data"
    }
   ],
   "source": [
    "## Log consumption over capital approximation results, shown in the Latex analytical form\n",
    "disp(ModelSol['JX_t'][0],'\\\\log\\\\frac{C_t}{K_t}') "
   ]
  },
  {
   "cell_type": "code",
   "execution_count": 11,
   "id": "95f0d7a9",
   "metadata": {
    "id": "95f0d7a9",
    "outputId": "2a513e25-deb0-44ac-e463-0e218ca7597c"
   },
   "outputs": [
    {
     "data": {
      "text/latex": [
       "$\\displaystyle \\log\\frac{C_t^0}{K_t^0}=-4.691$"
      ],
      "text/plain": [
       "<IPython.core.display.Math object>"
      ]
     },
     "metadata": {},
     "output_type": "display_data"
    }
   ],
   "source": [
    "## Log consumption over capital zeroth order approximation results\n",
    "disp(ModelSol['J0_t'][0],'\\\\log\\\\frac{C_t^0}{K_t^0}')"
   ]
  },
  {
   "cell_type": "code",
   "execution_count": 12,
   "id": "a72dd14c",
   "metadata": {
    "id": "a72dd14c",
    "outputId": "5a0a8fea-9444-47b0-9bee-dd52899acddc"
   },
   "outputs": [
    {
     "data": {
      "text/latex": [
       "$\\displaystyle \\log\\frac{C_t^1}{K_t^1}=-0.09143+\\begin{bmatrix}11.88&-2.2e-19\\end{bmatrix}X_t^1$"
      ],
      "text/plain": [
       "<IPython.core.display.Math object>"
      ]
     },
     "metadata": {},
     "output_type": "display_data"
    }
   ],
   "source": [
    "## Log consumption over capital first order approximation results\n",
    "disp(ModelSol['J1_t'][0],'\\\\log\\\\frac{C_t^1}{K_t^1}')"
   ]
  },
  {
   "cell_type": "code",
   "execution_count": 13,
   "id": "5756f191",
   "metadata": {
    "id": "5756f191",
    "outputId": "a418cb8c-c951-45c5-f4c5-4d43d18b194e"
   },
   "outputs": [
    {
     "data": {
      "text/latex": [
       "$\\displaystyle \\log\\frac{C_t^2}{K_t^2}=-0.02162+\\begin{bmatrix}1.152&-9.514e-21\\end{bmatrix}X_t^1+\\begin{bmatrix}11.88&-2.2e-19\\end{bmatrix}X_t^2+X^{1T}_{t}\\begin{bmatrix}-52.61&4.876e-18\\\\-3.64e-18&-9.04e-38\\end{bmatrix}X^1_{t}$"
      ],
      "text/plain": [
       "<IPython.core.display.Math object>"
      ]
     },
     "metadata": {},
     "output_type": "display_data"
    }
   ],
   "source": [
    "## Log consumption over capital second order approximation results\n",
    "disp(ModelSol['J2_t'][0],'\\\\log\\\\frac{C_t^2}{K_t^2}')"
   ]
  },
  {
   "cell_type": "code",
   "execution_count": 14,
   "id": "25e05001",
   "metadata": {
    "id": "25e05001",
    "outputId": "39680260-3836-4a52-9ee5-25f885d18aa7"
   },
   "outputs": [
    {
     "data": {
      "text/latex": [
       "$\\displaystyle \\log\\frac{K_{t+1}^1}{K_t^1}=\\begin{bmatrix}0.9861&-0\\end{bmatrix}X_t^1+\\begin{bmatrix}0.00011&0.00025\\end{bmatrix}W_{t+1}$"
      ],
      "text/plain": [
       "<IPython.core.display.Math object>"
      ]
     },
     "metadata": {},
     "output_type": "display_data"
    }
   ],
   "source": [
    "## Log capital growth process first order approximation results\n",
    "disp(ModelSol['X1_tp1'][0],'\\\\log\\\\frac{K_{t+1}^1}{K_t^1}') "
   ]
  },
  {
   "cell_type": "code",
   "execution_count": 15,
   "id": "d5b18ec2",
   "metadata": {
    "id": "d5b18ec2",
    "outputId": "1b2ebb60-d294-4281-e573-a76dcbc55b4d"
   },
   "outputs": [
    {
     "data": {
      "text/latex": [
       "$\\displaystyle \\log\\frac{K_{t+1}^2}{K_t^2}=\\begin{bmatrix}0.9861&-0\\end{bmatrix}X_t^2$"
      ],
      "text/plain": [
       "<IPython.core.display.Math object>"
      ]
     },
     "metadata": {},
     "output_type": "display_data"
    }
   ],
   "source": [
    "## Log capital growth process second order approximation results\n",
    "disp(ModelSol['X2_tp1'][0],'\\\\log\\\\frac{K_{t+1}^2}{K_t^2}') "
   ]
  },
  {
   "cell_type": "markdown",
   "id": "0190ee8e",
   "metadata": {
    "id": "0190ee8e"
   },
   "source": [
    "## 1.8 Approximate Variables <a class=\"anchor\" id=\"s1-8\"></a>\n",
    "\n",
    "If some variables can be computed using solved model variables, we can write a function to specify how to approximate, and then use the method `ModelSolution.approximate` to compute the approximation of these variables using model solutions. The below example computes the approximation of log investment growth process."
   ]
  },
  {
   "cell_type": "code",
   "execution_count": 16,
   "id": "145a47f6",
   "metadata": {
    "id": "145a47f6",
    "outputId": "ae3e6f0d-39c8-47a6-b2b3-934eaa6cffaa"
   },
   "outputs": [
    {
     "data": {
      "text/plain": [
       "{'c': array([[0.00030791]]),\n",
       " 'w': array([[ 0.00415864, -0.00138945]]),\n",
       " 'x': array([[ 1.03727514, -0.        ]])}"
      ]
     },
     "execution_count": 16,
     "metadata": {},
     "output_type": "execute_result"
    }
   ],
   "source": [
    "def gi_tp1_approx(Var_t, Var_tp1, W_tp1, q, *args):\n",
    "\n",
    "    # Parameters for the model\n",
    "    γ, β, ρ, a, θ_1, θ_2, α_k, σ_k, A, B = args\n",
    "\n",
    "    # Variables: (q_t, q_tp1 is excluded when using the method in `ModelSolution`)\n",
    "    cmk_t, imk_t, mkmc_t, Z_t, gk_t = Var_t.ravel()\n",
    "    cmk_tp1, imk_tp1, mkmc_tp1, Z_tp1, gk_tp1 = Var_tp1.ravel()\n",
    "    \n",
    "    gi_tp1 = imk_tp1 + gk_tp1 -imk_t\n",
    "    \n",
    "    return gi_tp1\n",
    "\n",
    "n_J, n_X, n_W = var_shape\n",
    "gi_tp1_list = ModelSol.approximate(gi_tp1_approx, args)\n",
    "gi_tp1 = {'gi_tp1':gi_tp1_list[0],\\\n",
    "        'gi0_tp1':gi_tp1_list[1],\\\n",
    "        'gi1_tp1':gi_tp1_list[2],\\\n",
    "        'gi2_tp1':gi_tp1_list[3]}\n",
    "gi_tp1['gi1_tp1'].coeffs"
   ]
  },
  {
   "cell_type": "markdown",
   "id": "bbd28ede",
   "metadata": {
    "id": "bbd28ede"
   },
   "source": [
    "## 1.9 Model Simulations <a class=\"anchor\" id=\"s1-9\"></a>\n",
    "Given a series of shock processes, we can simulate variables using the `ModelSolution.simulate` method. The below example simulates all jump and state variables with 400 periods i.i.d standard multivariate normal shocks."
   ]
  },
  {
   "cell_type": "code",
   "execution_count": 17,
   "id": "58417c59",
   "metadata": {
    "id": "58417c59"
   },
   "outputs": [],
   "source": [
    "Ws = np.random.multivariate_normal(np.zeros(n_W),np.eye(n_W),size = 400)\n",
    "JX_sim = ModelSol.simulate(Ws)"
   ]
  },
  {
   "cell_type": "markdown",
   "id": "738d5ef7",
   "metadata": {
    "id": "738d5ef7"
   },
   "source": [
    "## 1.10 Shock Elasticities and IRF <a class=\"anchor\" id=\"s1-10\"></a>\n",
    "\n",
    "`ModelSolution` has a method `elasticities` to compute the shock elasticities of all jump and state variables by defining a `log_SDF_ex` function, which states the log stochastic discount factor exclusive of the change of measure ${N}^*_{t+1}$ and variable $Q_{t+1}^*$. Shock elasticities are great tools for nonlinear impulsive response analyses, and in linear models, the shock elasticities correspond to the traditional IRF. \n",
    "\n",
    "`ModelSolution` also has a method `IRF` to compute the traditional IRF of all jump and state variables. Below we calculate the IRF of all variables with respect to the first shock for 400 periods."
   ]
  },
  {
   "cell_type": "code",
   "execution_count": 18,
   "id": "c2fb03dd",
   "metadata": {
    "id": "c2fb03dd"
   },
   "outputs": [
    {
     "name": "stderr",
     "output_type": "stream",
     "text": [
      "OMP: Info #271: omp_set_nested routine deprecated, please use omp_set_max_active_levels instead.\n"
     ]
    }
   ],
   "source": [
    "def log_SDF_ex(Var_t, Var_tp1, W_tp1, q, *args):\n",
    "\n",
    "    # Log stochastic discount factor exclusive of the change of measure N and Q.\n",
    "\n",
    "    # Parameters for the model \n",
    "    γ, β, ρ, a, θ_1, θ_2, α_k, σ_k, A, B = args\n",
    "\n",
    "    # Variables: (q_t, q_tp1 is excluded when using the method in `ModelSolution`) \n",
    "    cmk_t, imk_t, mkmc_t, Z_t, gk_t = Var_t.ravel()\n",
    "    cmk_tp1, imk_tp1, mkmc_tp1, Z_tp1, gk_tp1 = Var_tp1.ravel()\n",
    "    \n",
    "    sdf_ex = anp.log(β) - ρ*(cmk_tp1+gk_tp1-cmk_t)\n",
    "    \n",
    "    return sdf_ex\n",
    "\n",
    "expo_elas, price_elas = ModelSol.elasticities(log_SDF_ex, T=400, shock=0)\n",
    "states, controls = ModelSol.IRF(T = 400, shock = 0)"
   ]
  },
  {
   "cell_type": "markdown",
   "id": "eab36438",
   "metadata": {
    "id": "eab36438"
   },
   "source": [
    "# 2 Examples to use `LinQuadVar` in Computation <a class=\"anchor\" id=\"s2\"></a>\n",
    "\n",
    "## 2.1 Define a `LinQuadVar` <a class=\"anchor\" id=\"s2-1\"></a>\n",
    "\n",
    "Below we extract the steady states for the state evolution processes from the previous model solution, and construct it as a 2-dimensional LinQuadVar.\n",
    "\n",
    "See [src/lin_quad.py](https://github.com/lphansen/RiskUncertaintyValue/blob/main/src/lin_quad.py) for source code of `LinQuad` definition."
   ]
  },
  {
   "cell_type": "code",
   "execution_count": 19,
   "id": "b5d7ee6b",
   "metadata": {
    "id": "b5d7ee6b",
    "outputId": "882669aa-3be7-4c20-dd54-1273a7c1826d"
   },
   "outputs": [
    {
     "data": {
      "text/plain": [
       "{'c': array([[-3.93129532],\n",
       "        [ 1.00634613]])}"
      ]
     },
     "execution_count": 19,
     "metadata": {},
     "output_type": "execute_result"
    }
   ],
   "source": [
    "n_J, n_X, n_W = ModelSol['var_shape']\n",
    "X0_tp1 = LinQuadVar({'c':np.array([[ModelSol['ss'][1]],[ModelSol['ss'][2]]])}, shape = (2, n_X, n_W))\n",
    "X0_tp1.coeffs"
   ]
  },
  {
   "cell_type": "markdown",
   "id": "a5270666",
   "metadata": {
    "id": "a5270666"
   },
   "source": [
    "## 2.2 `LinQuadVar` Operations <a class=\"anchor\" id=\"s2-2\"></a>\n",
    "Below show two ways to add two LinQuads, we use the zeroth order, first order, second order approximation results to construct the approximation for the growth process or both state evolution processes.\n",
    "See [src/lin_quad_util.py](https://github.com/lphansen/RiskUncertaintyValue/blob/main/src/lin_quad_util.py) for source code of `LinQuad` operations."
   ]
  },
  {
   "cell_type": "code",
   "execution_count": 20,
   "id": "205dd148",
   "metadata": {
    "id": "205dd148",
    "outputId": "75bfa88f-3b99-4535-cf0d-121591eae233"
   },
   "outputs": [
    {
     "data": {
      "text/latex": [
       "$\\displaystyle \\log\\frac{K_{t+1}}{K_t}=-3.931+\\begin{bmatrix}0.9861&0\\end{bmatrix}X_t^1+\\begin{bmatrix}0.00011&0.00025\\end{bmatrix}W_{t+1}+\\begin{bmatrix}0.493&0\\end{bmatrix}X_t^2$"
      ],
      "text/plain": [
       "<IPython.core.display.Math object>"
      ]
     },
     "metadata": {},
     "output_type": "display_data"
    }
   ],
   "source": [
    "gk_tp1 = X0_tp1[0] + ModelSol['X1_tp1'][0]  + 0.5 * ModelSol['X2_tp1'][0] \n",
    "disp(gk_tp1,'\\\\log\\\\frac{K_{t+1}}{K_t}') "
   ]
  },
  {
   "cell_type": "code",
   "execution_count": 21,
   "id": "b5747b24",
   "metadata": {
    "id": "b5747b24",
    "outputId": "b23404ea-0275-4a57-812e-a675e5f3d37d"
   },
   "outputs": [
    {
     "data": {
      "text/plain": [
       "{'c': array([[-3.93129532],\n",
       "        [ 1.00667219]]),\n",
       " 'w': array([[0.00011, 0.00025],\n",
       "        [0.00477, 0.     ]]),\n",
       " 'x': array([[0.98609754, 0.        ],\n",
       "        [0.9628084 , 0.        ]]),\n",
       " 'xx': array([[ 0.        ,  0.        ,  0.        ,  0.        ],\n",
       "        [-0.21924476, -0.        ,  0.        ,  0.        ]]),\n",
       " 'x2': array([[0.49304877, 0.        ],\n",
       "        [0.48000401, 0.        ]])}"
      ]
     },
     "execution_count": 21,
     "metadata": {},
     "output_type": "execute_result"
    }
   ],
   "source": [
    "lq_sum([X0_tp1, ModelSol['X1_tp1'], 0.5 * ModelSol['X2_tp1']]).coeffs"
   ]
  },
  {
   "cell_type": "markdown",
   "id": "5c1952e3",
   "metadata": {
    "id": "5c1952e3"
   },
   "source": [
    "## 2.3 `LinQuadVar` Split and Concat <a class=\"anchor\" id=\"s2-3\"></a>\n",
    "`split` breaks multiple dimensional LinQuad into one-dimensional LinQuads, while `concat` does the inverse operation"
   ]
  },
  {
   "cell_type": "code",
   "execution_count": 22,
   "id": "d085149f",
   "metadata": {
    "id": "d085149f",
    "outputId": "a6bdf64b-17a6-48c5-b159-5715a34e0174"
   },
   "outputs": [
    {
     "data": {
      "text/plain": [
       "<lin_quad.LinQuadVar at 0x7f9ad3e40b80>"
      ]
     },
     "execution_count": 22,
     "metadata": {},
     "output_type": "execute_result"
    }
   ],
   "source": [
    "gk_tp1, Z_tp1 = ModelSol['X1_tp1'].split()\n",
    "concat([gk_tp1, Z_tp1])"
   ]
  },
  {
   "cell_type": "markdown",
   "id": "e67b04c1",
   "metadata": {
    "id": "e67b04c1"
   },
   "source": [
    "## 2.4 Evaluate a `LinQuadVar` <a class=\"anchor\" id=\"s2-4\"></a>\n",
    "Given specific values for $X_{t}$, $W_{t+1}$, we can evaluate a `LinQuadVar`. Below evaluates all variables at first and second order expansion states equal to 0, together with a multivariate random normal shock."
   ]
  },
  {
   "cell_type": "code",
   "execution_count": 23,
   "id": "5782676a",
   "metadata": {
    "id": "5782676a",
    "outputId": "0e8e4471-839b-4679-c7a2-fd8d6a8e6879"
   },
   "outputs": [
    {
     "data": {
      "text/plain": [
       "array([[-4.79592804],\n",
       "       [-3.88503366],\n",
       "       [ 1.03543888],\n",
       "       [-0.00025322],\n",
       "       [-0.00712572]])"
      ]
     },
     "execution_count": 23,
     "metadata": {},
     "output_type": "execute_result"
    }
   ],
   "source": [
    "x1 = np.zeros([n_X ,1])\n",
    "x2 = np.zeros([n_X ,1])\n",
    "w = np.random.multivariate_normal(np.zeros(n_W),np.eye(n_W),size = 1).T\n",
    "ModelSol['JX_tp1'](*(x1,x2,w))"
   ]
  },
  {
   "cell_type": "markdown",
   "id": "5051f96c",
   "metadata": {
    "id": "5051f96c"
   },
   "source": [
    "## 2.5 Adjust Conditional Information Time <a class=\"anchor\" id=\"s2-5\"></a>\n",
    "Since some `LinQuadVar` (e.g. solved jump variables) are expressed as a function of time $t$ state variables without shocks, when we would like to compute its next period expression, $t+1$, with shocks, but still as a function of time $t$ state variables, we can use function `next_period`."
   ]
  },
  {
   "cell_type": "code",
   "execution_count": 24,
   "id": "7e088a47",
   "metadata": {
    "id": "7e088a47",
    "outputId": "116af9b7-9791-4391-b7a4-8d9ee133baff"
   },
   "outputs": [
    {
     "data": {
      "text/latex": [
       "$\\displaystyle \\log\\frac{C_{t+1}^1}{K_{t+1}^1}=-0.09143+\\begin{bmatrix}11.71&-1.63e-40\\end{bmatrix}X_t^1+\\begin{bmatrix}0.001306&0.002969\\end{bmatrix}W_{t+1}$"
      ],
      "text/plain": [
       "<IPython.core.display.Math object>"
      ]
     },
     "metadata": {},
     "output_type": "display_data"
    }
   ],
   "source": [
    "cmk1_tp1 = next_period(ModelSol['J1_t'][0], ModelSol['X1_tp1'])\n",
    "disp(cmk1_tp1, '\\\\log\\\\frac{C_{t+1}^1}{K_{t+1}^1}') "
   ]
  },
  {
   "cell_type": "code",
   "execution_count": 25,
   "id": "fa8ab664",
   "metadata": {
    "id": "fa8ab664",
    "outputId": "f4244fa2-2a8a-4a42-8a33-2ab7407c7c8d"
   },
   "outputs": [
    {
     "data": {
      "text/latex": [
       "$\\displaystyle \\log\\frac{C_{t+1}^2}{K_{t+1}^2}=-0.02162+\\begin{bmatrix}1.136&2.455e-41\\end{bmatrix}X_t^1+\\begin{bmatrix}0.0001267&0.000288\\end{bmatrix}W_{t+1}+\\begin{bmatrix}11.71&-1.63e-40\\end{bmatrix}X_t^2+X^{1T}_{t}\\begin{bmatrix}-51.15&4.666e-39\\\\-7.867e-39&-2.048e-59\\end{bmatrix}X^1_{t}+X^{1T}_{t}\\begin{bmatrix}-0.01141&-0.02594\\\\1.007e-43&2.289e-43\\end{bmatrix}W_{t+1}+W_{t+1}^{T}\\begin{bmatrix}-6.365e-07&-1.447e-06\\\\-1.447e-06&-3.288e-06\\end{bmatrix}W_{t+1}$"
      ],
      "text/plain": [
       "<IPython.core.display.Math object>"
      ]
     },
     "metadata": {},
     "output_type": "display_data"
    }
   ],
   "source": [
    "cmk2_tp1 = next_period(ModelSol['J2_t'][0], ModelSol['X1_tp1'], ModelSol['X2_tp1'])\n",
    "disp(cmk2_tp1, '\\\\log\\\\frac{C_{t+1}^2}{K_{t+1}^2}') "
   ]
  },
  {
   "cell_type": "markdown",
   "id": "daa0c4c1",
   "metadata": {
    "id": "daa0c4c1"
   },
   "source": [
    "## 2.6 Compute the Expectation of time $t+1$ `LinQuadVar` <a class=\"anchor\" id=\"s2-6\"></a>\n",
    "\n",
    "Suppose the distribution of shock has a constant mean and variance (not state dependent), we can use `E` to compute the expectation of time $t+1$ `LinQuadVar`.\n"
   ]
  },
  {
   "cell_type": "code",
   "execution_count": 26,
   "id": "3140272c",
   "metadata": {
    "id": "3140272c",
    "outputId": "418a75e2-ff56-4bd7-8471-67634f26654c"
   },
   "outputs": [
    {
     "data": {
      "text/latex": [
       "$\\displaystyle \\mathbb{E}[\\log\\frac{C_{t+1}^2}{K_{t+1}^2}|\\mathfrak{F_t}]=-0.02167+\\begin{bmatrix}1.14&2.451e-41\\end{bmatrix}X_t^1+\\begin{bmatrix}11.71&-1.63e-40\\end{bmatrix}X_t^2+X^{1T}_{t}\\begin{bmatrix}-51.15&4.666e-39\\\\-7.867e-39&-2.048e-59\\end{bmatrix}X^1_{t}$"
      ],
      "text/plain": [
       "<IPython.core.display.Math object>"
      ]
     },
     "metadata": {},
     "output_type": "display_data"
    }
   ],
   "source": [
    "E_w = ModelSol['util_sol']['μ_0']\n",
    "cov_w = np.eye(n_W)\n",
    "E_ww = cal_E_ww(E_w, cov_w)\n",
    "E_cmk2_tp1 = E(cmk2_tp1, E_w, E_ww)\n",
    "disp(E_cmk2_tp1, '\\mathbb{E}[\\\\log\\\\frac{C_{t+1}^2}{K_{t+1}^2}|\\mathfrak{F_t}]')"
   ]
  },
  {
   "cell_type": "markdown",
   "id": "18a1686c",
   "metadata": {
    "id": "18a1686c"
   },
   "source": [
    "Suppose the distribution of shock has a state-dependent mean and variance (implied by $\\tilde{N}_{t+1}$ shown in the notes), we can use `E_N_tp1` and `N_tilde_measure` to compute the expectation of time $t+1$ `LinQuadVar`."
   ]
  },
  {
   "cell_type": "code",
   "execution_count": 27,
   "id": "a58482f7",
   "metadata": {
    "id": "a58482f7",
    "outputId": "b8f2fc85-7c37-4d01-a5ed-c6b4d6d940a0"
   },
   "outputs": [
    {
     "data": {
      "text/latex": [
       "$\\displaystyle \\mathbb{\\tilde{E}}[\\log\\frac{C_{t+1}^2}{K_{t+1}^2}|\\mathfrak{F_t}]=-0.02167+\\begin{bmatrix}1.141&2.451e-41\\end{bmatrix}X_t^1+\\begin{bmatrix}11.71&-1.63e-40\\end{bmatrix}X_t^2+X^{1T}_{t}\\begin{bmatrix}-51.16&4.666e-39\\\\-7.867e-39&-2.048e-59\\end{bmatrix}X^1_{t}$"
      ],
      "text/plain": [
       "<IPython.core.display.Math object>"
      ]
     },
     "metadata": {},
     "output_type": "display_data"
    }
   ],
   "source": [
    "N_cm = N_tilde_measure(ModelSol['util_sol']['log_N_tilde'],(1,n_X,n_W))\n",
    "E_cmk2_tp1_tilde = E_N_tp1(cmk2_tp1, N_cm)\n",
    "disp(E_cmk2_tp1_tilde, '\\mathbb{\\\\tilde{E}}[\\\\log\\\\frac{C_{t+1}^2}{K_{t+1}^2}|\\mathfrak{F_t}]')"
   ]
  },
  {
   "cell_type": "code",
   "execution_count": null,
   "id": "ef066880",
   "metadata": {
    "id": "ef066880"
   },
   "outputs": [],
   "source": []
  },
  {
   "cell_type": "code",
   "execution_count": null,
   "id": "e8a2dbdf-d34b-4a19-b80e-5627814a7866",
   "metadata": {},
   "outputs": [],
   "source": []
  }
 ],
 "metadata": {
  "colab": {
   "provenance": []
  },
  "interpreter": {
   "hash": "1c67a9c81f4b1f676ee52b818d3e176be5c9dd44f82a35d6054954eb94c37bc5"
  },
  "kernelspec": {
   "display_name": "Python 3 (ipykernel)",
   "language": "python",
   "name": "python3"
  },
  "language_info": {
   "codemirror_mode": {
    "name": "ipython",
    "version": 3
   },
   "file_extension": ".py",
   "mimetype": "text/x-python",
   "name": "python",
   "nbconvert_exporter": "python",
   "pygments_lexer": "ipython3",
   "version": "3.9.7"
  }
 },
 "nbformat": 4,
 "nbformat_minor": 5
}
